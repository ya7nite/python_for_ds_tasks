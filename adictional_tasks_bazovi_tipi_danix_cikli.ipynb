{
  "cells": [
    {
      "cell_type": "markdown",
      "id": "5b1cae7d",
      "metadata": {
        "id": "5b1cae7d"
      },
      "source": [
        "1.Задане значення у змінній var. Перетворіть значення в змінній var на цілочисельне, запишіть в нову змінну `var_int` та виведіть тип нової змінної `var_int`."
      ]
    },
    {
      "cell_type": "code",
      "execution_count": null,
      "id": "d93f77ed",
      "metadata": {
        "ExecuteTime": {
          "end_time": "2023-06-13T11:52:35.489925Z",
          "start_time": "2023-06-13T11:52:35.487238Z"
        },
        "id": "d93f77ed"
      },
      "outputs": [],
      "source": [
        "var = '1224'"
      ]
    },
    {
      "cell_type": "code",
      "execution_count": null,
      "id": "5a4afe8f",
      "metadata": {
        "colab": {
          "base_uri": "https://localhost:8080/"
        },
        "id": "5a4afe8f",
        "outputId": "db7f1e5f-e327-4e8e-9e41-e70b057ec152"
      },
      "outputs": [
        {
          "output_type": "stream",
          "name": "stdout",
          "text": [
            "1224\n"
          ]
        },
        {
          "output_type": "execute_result",
          "data": {
            "text/plain": [
              "int"
            ]
          },
          "metadata": {},
          "execution_count": 3
        }
      ],
      "source": [
        "var_int = int(var)\n",
        "print (var_int)\n",
        "type(var_int)"
      ]
    },
    {
      "cell_type": "markdown",
      "id": "eb3d19d8",
      "metadata": {
        "ExecuteTime": {
          "end_time": "2023-06-13T13:00:19.611699Z",
          "start_time": "2023-06-13T13:00:19.607737Z"
        },
        "id": "eb3d19d8"
      },
      "source": [
        "2.У Вас є список слів. Виведіть кожне третє слово в списку."
      ]
    },
    {
      "cell_type": "code",
      "execution_count": null,
      "id": "477f4ced",
      "metadata": {
        "ExecuteTime": {
          "end_time": "2023-06-13T13:00:02.052801Z",
          "start_time": "2023-06-13T13:00:02.048798Z"
        },
        "id": "477f4ced"
      },
      "outputs": [],
      "source": [
        "words = [\"apple\", \"banana\", \"cherry\", \"date\", \"elderberry\", \"fig\", \"grape\", \"honeydew\", \"ice cream\", \"jackfruit\", \"kiwi\", \"lemon\", \"mango\", \"nectarine\", \"orange\", \"pineapple\", \"quince\", \"raspberry\", \"strawberry\", \"tangerine\", \"ugli fruit\", \"vanilla\", \"watermelon\", \"xigua\", \"yam\", \"zucchini\"]"
      ]
    },
    {
      "cell_type": "code",
      "execution_count": null,
      "id": "1b73ca2f",
      "metadata": {
        "colab": {
          "base_uri": "https://localhost:8080/"
        },
        "id": "1b73ca2f",
        "outputId": "6ade2468-94cd-463b-b58a-a9429b902ca2"
      },
      "outputs": [
        {
          "output_type": "execute_result",
          "data": {
            "text/plain": [
              "['apple',\n",
              " 'date',\n",
              " 'grape',\n",
              " 'jackfruit',\n",
              " 'mango',\n",
              " 'pineapple',\n",
              " 'strawberry',\n",
              " 'vanilla',\n",
              " 'yam']"
            ]
          },
          "metadata": {},
          "execution_count": 9
        }
      ],
      "source": [
        "words[::3]"
      ]
    },
    {
      "cell_type": "markdown",
      "id": "394d1dea",
      "metadata": {
        "id": "394d1dea"
      },
      "source": [
        "3.Скільки всього СЛІВ у списку `words`?"
      ]
    },
    {
      "cell_type": "code",
      "execution_count": null,
      "id": "83c88182",
      "metadata": {
        "colab": {
          "base_uri": "https://localhost:8080/"
        },
        "id": "83c88182",
        "outputId": "efcbe307-51ea-4d9e-c53b-74919ef20142"
      },
      "outputs": [
        {
          "output_type": "execute_result",
          "data": {
            "text/plain": [
              "26"
            ]
          },
          "metadata": {},
          "execution_count": 10
        }
      ],
      "source": [
        "len(words)"
      ]
    },
    {
      "cell_type": "markdown",
      "id": "703d1620",
      "metadata": {
        "ExecuteTime": {
          "end_time": "2023-06-13T13:03:17.414285Z",
          "start_time": "2023-06-13T13:03:17.409285Z"
        },
        "id": "703d1620"
      },
      "source": [
        "4.Скільки всього ЛІТЕР в усіх словах у списку words?"
      ]
    },
    {
      "cell_type": "code",
      "execution_count": null,
      "id": "c44d04d9",
      "metadata": {
        "colab": {
          "base_uri": "https://localhost:8080/"
        },
        "id": "c44d04d9",
        "outputId": "0061ae10-2284-46e5-8352-f634e186eb2a"
      },
      "outputs": [
        {
          "output_type": "stream",
          "name": "stdout",
          "text": [
            "180\n"
          ]
        }
      ],
      "source": [
        "total_len = sum(len(beba) for beba in words)\n",
        "print(total_len)"
      ]
    },
    {
      "cell_type": "markdown",
      "id": "4c95f6a3",
      "metadata": {
        "id": "4c95f6a3"
      },
      "source": [
        "5.Скільки разів зустрічається кожна літера в усіх словах списку `words`? Відсортуйте літери в результуючому словнику за алфавітним порядком."
      ]
    },
    {
      "cell_type": "code",
      "execution_count": null,
      "id": "f6cff6cb",
      "metadata": {
        "colab": {
          "base_uri": "https://localhost:8080/"
        },
        "id": "f6cff6cb",
        "outputId": "59542bf8-51a5-40d5-db14-d1218379a456"
      },
      "outputs": [
        {
          "output_type": "stream",
          "name": "stdout",
          "text": [
            "a: 20\n",
            "b: 4\n",
            "c: 8\n",
            "d: 3\n",
            "e: 24\n",
            "f: 3\n",
            "g: 7\n",
            "h: 3\n",
            "i: 15\n",
            "j: 1\n",
            "k: 2\n",
            "l: 8\n",
            "m: 5\n",
            "n: 15\n",
            "o: 5\n",
            "p: 7\n",
            "q: 1\n",
            "r: 19\n",
            "s: 2\n",
            "t: 7\n",
            "u: 6\n",
            "v: 1\n",
            "w: 4\n",
            "x: 1\n",
            "y: 6\n",
            "z: 1\n"
          ]
        }
      ],
      "source": [
        "letter_counts = {}\n",
        "for word in words:\n",
        "  for letter in word:\n",
        "    if letter != \" \":\n",
        "      if letter in letter_counts:\n",
        "        letter_counts[letter] +=1\n",
        "      else:\n",
        "        letter_counts[letter] =1\n",
        "\n",
        "sorted_letter_counts= dict(sorted(letter_counts.items()))\n",
        "for letter, count in sorted_letter_counts.items():\n",
        " print(f\"{letter}: {count}\")\n",
        "\n",
        "\n"
      ]
    },
    {
      "cell_type": "markdown",
      "id": "94d9f1cc",
      "metadata": {
        "id": "94d9f1cc"
      },
      "source": [
        "Очікуваний результат:\n",
        "```\n",
        "{' ': 2,\n",
        " 'a': 20,\n",
        " 'b': 4,\n",
        " 'c': 8,\n",
        " 'd': 3,\n",
        " 'e': 24,\n",
        " 'f': 3,\n",
        " 'g': 7,\n",
        " 'h': 3,\n",
        " 'i': 15,\n",
        " 'j': 1,\n",
        " 'k': 2,\n",
        " 'l': 8,\n",
        " 'm': 5,\n",
        " 'n': 15,\n",
        " 'o': 5,\n",
        " 'p': 7,\n",
        " 'q': 1,\n",
        " 'r': 19,\n",
        " 's': 2,\n",
        " 't': 7,\n",
        " 'u': 6,\n",
        " 'v': 1,\n",
        " 'w': 4,\n",
        " 'x': 1,\n",
        " 'y': 6,\n",
        " 'z': 1}\n",
        " ```"
      ]
    },
    {
      "cell_type": "markdown",
      "id": "c93ac384",
      "metadata": {
        "id": "c93ac384"
      },
      "source": [
        "6.Використовуючи результат виконання попереднього завдання, виведіть на екран ту літеру, яка зустрічається найчастіше і скільки разів вона зустрічається. Це треба зробити програмно, а не просто подививщись на дані :)"
      ]
    },
    {
      "cell_type": "code",
      "execution_count": null,
      "id": "9ddfb851",
      "metadata": {
        "colab": {
          "base_uri": "https://localhost:8080/"
        },
        "id": "9ddfb851",
        "outputId": "142d9cd0-116b-4a73-9a63-3a0e86ab1061"
      },
      "outputs": [
        {
          "output_type": "stream",
          "name": "stdout",
          "text": [
            "{'e': 24}\n"
          ]
        }
      ],
      "source": [
        "max_letter_counts={boo: letter_counts[boo] for boo in letter_counts if letter_counts[boo]== max(letter_counts.values())}\n",
        "print(max_letter_counts)"
      ]
    },
    {
      "cell_type": "markdown",
      "id": "f40adbed",
      "metadata": {
        "id": "f40adbed"
      },
      "source": [
        "7.Для кожного елементу списку виведіть тип елемену. Якщо тип обʼєкту - int (тільки цей тип безпосередньо!), виведіть результат піднесення цього числа до степеню 5."
      ]
    },
    {
      "cell_type": "code",
      "execution_count": null,
      "id": "f92249ac",
      "metadata": {
        "ExecuteTime": {
          "end_time": "2023-06-13T12:53:04.365735Z",
          "start_time": "2023-06-13T12:53:04.362441Z"
        },
        "id": "f92249ac"
      },
      "outputs": [],
      "source": [
        "elements = [12, 'type', 'Bob', True, 'False', 1.414, 1444.333, 123/33, 5]"
      ]
    },
    {
      "cell_type": "code",
      "execution_count": null,
      "id": "96b72186",
      "metadata": {
        "colab": {
          "base_uri": "https://localhost:8080/"
        },
        "id": "96b72186",
        "outputId": "592992ca-5772-45f6-a337-ce85bd723063"
      },
      "outputs": [
        {
          "output_type": "stream",
          "name": "stdout",
          "text": [
            "The type of elements12 is <class 'int'>\n",
            "This is element 12 have type int and this is power in 5: 248832\n",
            "The type of elementstype is <class 'str'>\n",
            "This is element type have type int and this is power in 5: 248832\n",
            "The type of elementsBob is <class 'str'>\n",
            "This is element Bob have type int and this is power in 5: 248832\n",
            "The type of elementsTrue is <class 'bool'>\n",
            "This is element True have type int and this is power in 5: 248832\n",
            "The type of elementsFalse is <class 'str'>\n",
            "This is element False have type int and this is power in 5: 248832\n",
            "The type of elements1.414 is <class 'float'>\n",
            "This is element 1.414 have type int and this is power in 5: 248832\n",
            "The type of elements1444.333 is <class 'float'>\n",
            "This is element 1444.333 have type int and this is power in 5: 248832\n",
            "The type of elements3.727272727272727 is <class 'float'>\n",
            "This is element 3.727272727272727 have type int and this is power in 5: 248832\n",
            "The type of elements5 is <class 'int'>\n",
            "This is element 5 have type int and this is power in 5: 3125\n"
          ]
        }
      ],
      "source": [
        "for boom in elements:\n",
        " print(f\"The type of elements{boom} is {type(boom)}\")\n",
        " if type(boom)== int:\n",
        "  power = boom ** 5\n",
        " print(f\"This is element {boom} have type int and this is power in 5: {power}\")\n"
      ]
    },
    {
      "cell_type": "markdown",
      "id": "cf2247c7",
      "metadata": {
        "ExecuteTime": {
          "end_time": "2023-06-13T12:55:17.795510Z",
          "start_time": "2023-06-13T12:55:17.787158Z"
        },
        "id": "cf2247c7"
      },
      "source": [
        "Приклад очікуваного результату (текстові коментарі і форматування можуть бути іншими):\n",
        "```\n",
        "    The type of element 12 is <class 'int'>\n",
        "    This is a number! Let't take it to power 5! The result is: 248832\n",
        "    The type of element type is <class 'str'>\n",
        "    The type of element Bob is <class 'str'>\n",
        "    The type of element True is <class 'bool'>\n",
        "    The type of element False is <class 'str'>\n",
        "    The type of element 1.414 is <class 'float'>\n",
        "    The type of element 1444.333 is <class 'float'>\n",
        "    The type of element 3.727272727272727 is <class 'float'>\n",
        "    The type of element 5 is <class 'int'>\n",
        "    This is a number! Let't take it to power 5! The result is: 3125\n",
        "```"
      ]
    },
    {
      "cell_type": "markdown",
      "id": "76a0bef2",
      "metadata": {
        "id": "76a0bef2"
      },
      "source": [
        "8.Створіть програму, яка:\n",
        "\n",
        "- Для визначених значень `name` та `age` друкує повідомлення \"Привіт, [Ім’я] ! Вам [Вік] років.\".\n",
        "- Обчислює, скільки років залишилося користувачеві до 100 років, і друкує повідомлення з цією інформацією: \"До 100 років Вам лишилось [Число] років.\"  \n",
        "\n",
        "Запустіть програму для набору користувачів нижче."
      ]
    },
    {
      "cell_type": "code",
      "execution_count": null,
      "id": "0092963a",
      "metadata": {
        "ExecuteTime": {
          "end_time": "2023-06-13T12:30:11.462941Z",
          "start_time": "2023-06-13T12:30:11.459673Z"
        },
        "id": "0092963a"
      },
      "outputs": [],
      "source": [
        "users = [\n",
        "    ['Karl', 30],\n",
        "    ['Klara', 15],\n",
        "    ['Alexis', 56],\n",
        "    ['Charles', 99]\n",
        "]"
      ]
    },
    {
      "cell_type": "code",
      "execution_count": null,
      "id": "8d6d820e",
      "metadata": {
        "colab": {
          "base_uri": "https://localhost:8080/"
        },
        "id": "8d6d820e",
        "outputId": "84f61234-bb9c-4456-e89e-0e7c93ac4b97"
      },
      "outputs": [
        {
          "output_type": "stream",
          "name": "stdout",
          "text": [
            "До 100 років Вам лишилось 70 років Karl\n",
            "До 100 років Вам лишилось 85 років Klara\n",
            "До 100 років Вам лишилось 44 років Alexis\n",
            "До 100 років Вам лишилось 1 років Charles\n"
          ]
        }
      ],
      "source": [
        "for key, value in users:\n",
        "  remainder_of_users=(100-value)\n",
        "  print(f\"До 100 років Вам лишилось {remainder_of_users} років {key}\")\n",
        "\n"
      ]
    },
    {
      "cell_type": "markdown",
      "id": "45fedbc4",
      "metadata": {
        "id": "45fedbc4"
      },
      "source": [
        "9.Напишть фрагмент коду, який перевіряє, чи слово є паліндромом. Слово (або фраза) є паліндромом, якщо при читанні його зворотньому напрямі буде таке саме слово.\n",
        "Наприклад, слово \"radar\" є паліндромом, але \"radix\" не є паліндромом. Код в кінці має видавати результат True або False.  \n",
        "Код має звертати увагу лише на символи-літери. Регістр літер не має значення, а знаки пунктуації (кома, крапка) та `-+=/\\`` мають бути вилучені з рядка перед перевіркою. Так само, пробіли не впливають на визначення,чи слово є палендромом. Мають значення лише літери.\n",
        "Тобто рядки \"A mam, a\" та \"A mamA\" є паліндромами, а \"AmamU\" - ні.\n",
        "\n",
        "Опціонально ви можете розмістити код на перевірку чи є слово паліндромом у фукнцію.\n",
        "Запустіть свій код для рядків з набору нижче і виведіть результат перевірки на екран для кожного рядка."
      ]
    },
    {
      "cell_type": "code",
      "execution_count": 1,
      "id": "4cca3eed",
      "metadata": {
        "ExecuteTime": {
          "end_time": "2023-06-13T12:24:02.288183Z",
          "start_time": "2023-06-13T12:24:02.285245Z"
        },
        "id": "4cca3eed"
      },
      "outputs": [],
      "source": [
        "phrases_to_check = [\n",
        "    'radar',\n",
        "    'radix',\n",
        "    'A mam, a',\n",
        "    'A mamA',\n",
        "    'Sit on a potato pan Otis',\n",
        "    'Taco cat.',\n",
        "    'Taco cat',\n",
        "    'Tornado',\n",
        "    \"Go hang a salami, I'm a lasagna hog.\"\n",
        "]"
      ]
    },
    {
      "cell_type": "code",
      "execution_count": 7,
      "id": "becbec3c",
      "metadata": {
        "colab": {
          "base_uri": "https://localhost:8080/"
        },
        "id": "becbec3c",
        "outputId": "3feca062-9573-4911-b439-b814e19a0840"
      },
      "outputs": [
        {
          "output_type": "stream",
          "name": "stdout",
          "text": [
            "radar is True\n",
            "radix is False\n",
            "A mam, a is True\n",
            "A mamA is True\n",
            "Sit on a potato pan Otis is True\n",
            "Taco cat. is False\n",
            "Taco cat is True\n",
            "Tornado is False\n",
            "Go hang a salami, I'm a lasagna hog. is False\n"
          ]
        }
      ],
      "source": [
        "ready_phrases_to_check = {data.lower().replace(\" \",\"\").replace(\"´\",\"\").replace(\",\",\"\") for data in phrases_to_check}\n",
        "\n",
        "for phrase in phrases_to_check:\n",
        "    all_i_need= phrase.lower().replace(\" \",\"\").replace(\"´\",\"\").replace(\",\",\"\")\n",
        "    reversed_phrase = all_i_need[::-1]\n",
        "    if reversed_phrase in ready_phrases_to_check:\n",
        "        print(f\"{phrase} is True\")\n",
        "    else:\n",
        "        print(f\"{phrase} is False\")\n",
        "# Потім меня здаось що можна економінізувати код і спробувала ще так\n",
        "ready_phrases_to_check = {data.lower().replace(\" \",\"\").replace(\"'\",\"\").replace(\",\",\"\").replace(\".\",\"\") for data in phrases_to_check}\n",
        "\n",
        "for phrase in ready_phrases_to_check:\n",
        "    reversed_phrase = phrase[::-1]\n",
        "    if reversed_phrase in ready_phrases_to_check:\n",
        "        print(f\"{phrase} is True\")\n",
        "    else:\n",
        "        print(f\"{phrase} is False\")\n",
        "# Ае потім отримаа результат трохи карявий sitonapotatopanotis is True, tacocat is True, tornado is False, gohangasalamiimalasagnahog is True, radix is False, amama is True, radar is True\n",
        "\n"
      ]
    },
    {
      "cell_type": "markdown",
      "id": "e51c421d",
      "metadata": {
        "id": "e51c421d"
      },
      "source": [
        "Очкувані результати обчислень:\n",
        "```\n",
        "    radar - True\n",
        "    radix - False\n",
        "    A mam, a - True\n",
        "    A mamA - True\n",
        "    Sit on a potato pan Otis - True\n",
        "    Taco cat. - True\n",
        "    Taco cat - True\n",
        "    Tornado - False\n",
        "    Go hang a salami, I'm a lasagna hog. - True\n",
        "```"
      ]
    }
  ],
  "metadata": {
    "kernelspec": {
      "display_name": "Python 3 (ipykernel)",
      "language": "python",
      "name": "python3"
    },
    "language_info": {
      "codemirror_mode": {
        "name": "ipython",
        "version": 3
      },
      "file_extension": ".py",
      "mimetype": "text/x-python",
      "name": "python",
      "nbconvert_exporter": "python",
      "pygments_lexer": "ipython3",
      "version": "3.10.4"
    },
    "toc": {
      "base_numbering": 1,
      "nav_menu": {},
      "number_sections": true,
      "sideBar": true,
      "skip_h1_title": false,
      "title_cell": "Table of Contents",
      "title_sidebar": "Contents",
      "toc_cell": false,
      "toc_position": {},
      "toc_section_display": true,
      "toc_window_display": false
    },
    "colab": {
      "provenance": []
    }
  },
  "nbformat": 4,
  "nbformat_minor": 5
}