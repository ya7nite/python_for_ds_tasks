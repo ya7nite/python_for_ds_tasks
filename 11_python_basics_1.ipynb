{
 "cells": [
  {
   "cell_type": "markdown",
   "id": "08f1c51f",
   "metadata": {
    "pycharm": {
     "name": "#%% md\n"
    }
   },
   "source": [
    "# Домашнє завдання до теми \"Python Basics\"\n",
    "В цьому ДЗ важливою умовою виконання завдань є те, що ми не імпортуємо жодних бібліотек, а робимо все на чистому Python, використовуючи лише базовий функціонал. Це необхідно аби відпрацювати роботу з базовими типами даних. А використовувати бібліотеки ми ще навчимось далі :)"
   ]
  },
  {
   "cell_type": "markdown",
   "id": "0f3e7772",
   "metadata": {
    "pycharm": {
     "name": "#%% md\n"
    }
   },
   "source": [
    "## Робота з числами та арифметичними операторами"
   ]
  },
  {
   "cell_type": "markdown",
   "id": "b2a2e2a5",
   "metadata": {
    "ExecuteTime": {
     "end_time": "2023-05-26T10:30:07.427381Z",
     "start_time": "2023-05-26T10:30:07.416247Z"
    }
   },
   "source": [
    "1.Створіть змінну, яка буде зберігати кількість яблук. І надайте їй значення 5. Виведіть значення змінної на екран."
   ]
  },
  {
   "cell_type": "code",
   "execution_count": 4,
   "id": "c2b60bbe",
   "metadata": {
    "ExecuteTime": {
     "end_time": "2023-10-12T11:55:04.312836Z",
     "start_time": "2023-10-12T11:55:04.304305Z"
    }
   },
   "outputs": [
    {
     "data": {
      "text/plain": [
       "5"
      ]
     },
     "execution_count": 4,
     "metadata": {},
     "output_type": "execute_result"
    }
   ],
   "source": [
    "Apple = 5\n",
    "Apple"
   ]
  },
  {
   "cell_type": "markdown",
   "id": "22291667",
   "metadata": {},
   "source": [
    "2.Виведіть тип змінної, створеної в завданні (1)."
   ]
  },
  {
   "cell_type": "code",
   "execution_count": 5,
   "id": "7982a09a",
   "metadata": {
    "ExecuteTime": {
     "end_time": "2023-10-12T11:55:16.712491Z",
     "start_time": "2023-10-12T11:55:16.702297Z"
    }
   },
   "outputs": [
    {
     "data": {
      "text/plain": [
       "int"
      ]
     },
     "execution_count": 5,
     "metadata": {},
     "output_type": "execute_result"
    }
   ],
   "source": [
    "type(Apple)"
   ]
  },
  {
   "cell_type": "markdown",
   "id": "d43e1e57",
   "metadata": {},
   "source": [
    "3.Додайте до значення змінної, створеної в завданні (1) число `12` і виведіть результат на екран з допомогою команди `print()`."
   ]
  },
  {
   "cell_type": "code",
   "execution_count": 19,
   "id": "42729777",
   "metadata": {
    "ExecuteTime": {
     "end_time": "2023-10-12T14:16:30.566517Z",
     "start_time": "2023-10-12T14:16:30.557411Z"
    }
   },
   "outputs": [
    {
     "data": {
      "text/plain": [
       "17"
      ]
     },
     "execution_count": 19,
     "metadata": {},
     "output_type": "execute_result"
    }
   ],
   "source": [
    "Apple1= Apple + 12\n",
    "Apple1"
   ]
  },
  {
   "cell_type": "markdown",
   "id": "0be48f79",
   "metadata": {
    "pycharm": {
     "name": "#%% md\n"
    }
   },
   "source": [
    "4.Створіть змінні `a`, `b`, `c` та `d`, задайте їм значення відповідно 101, 210, 111, 402, та обчисліть з допомогою Python наступний вираз:  $$ \\frac{(a+b) * c}{d} $$\n",
    "\n",
    "**Важливо**: тут ми маємо обчислити значення саме з використанням змінних, а не просто чисел, як би ми робили у калькуряторі. Змінні потрібні аби за бажання ми могли змінити їх значення та не переписувати код обчислення виразу, бо він буде працювати для різних значень змінних."
   ]
  },
  {
   "cell_type": "code",
   "execution_count": 12,
   "id": "9d7e1690",
   "metadata": {
    "ExecuteTime": {
     "end_time": "2023-10-12T14:10:03.482788Z",
     "start_time": "2023-10-12T14:10:03.473269Z"
    },
    "pycharm": {
     "name": "#%%\n"
    }
   },
   "outputs": [
    {
     "data": {
      "text/plain": [
       "85.8731343283582"
      ]
     },
     "execution_count": 12,
     "metadata": {},
     "output_type": "execute_result"
    }
   ],
   "source": [
    "a = 101\n",
    "b = 210\n",
    "c = 111\n",
    "d = 402\n",
    "((a+b)*c)/d"
   ]
  },
  {
   "cell_type": "markdown",
   "id": "b4183f4f",
   "metadata": {
    "pycharm": {
     "name": "#%% md\n"
    }
   },
   "source": [
    "Очікувана відповідь: 85.8731343283582"
   ]
  },
  {
   "cell_type": "markdown",
   "id": "1e9d3655",
   "metadata": {},
   "source": [
    "5.Якою буде остача від ділення числа 11283 на 89? Обчисліть з допомогою Python."
   ]
  },
  {
   "cell_type": "code",
   "execution_count": 15,
   "id": "def00fa0",
   "metadata": {
    "ExecuteTime": {
     "end_time": "2023-10-12T14:13:26.608381Z",
     "start_time": "2023-10-12T14:13:26.601611Z"
    }
   },
   "outputs": [
    {
     "name": "stdout",
     "output_type": "stream",
     "text": [
      "69\n"
     ]
    }
   ],
   "source": [
    "a = 11283\n",
    "b = 89\n",
    "c = a % b\n",
    "print(c)"
   ]
  },
  {
   "cell_type": "markdown",
   "id": "bd2491e2",
   "metadata": {},
   "source": [
    "6.Скільки цілих разів поміститься число 89 в 11283? (Або що те саме: який буде результат цілочисельного ділення 11283 на 89?)"
   ]
  },
  {
   "cell_type": "code",
   "execution_count": 21,
   "id": "02e0c7b3",
   "metadata": {
    "ExecuteTime": {
     "end_time": "2023-10-12T14:17:33.780249Z",
     "start_time": "2023-10-12T14:17:33.771681Z"
    }
   },
   "outputs": [
    {
     "data": {
      "text/plain": [
       "126"
      ]
     },
     "execution_count": 21,
     "metadata": {},
     "output_type": "execute_result"
    }
   ],
   "source": [
    "d = a // b\n",
    "d"
   ]
  },
  {
   "cell_type": "markdown",
   "id": "676db6ee",
   "metadata": {
    "ExecuteTime": {
     "end_time": "2022-10-15T22:38:58.278123Z",
     "start_time": "2022-10-15T22:38:58.274895Z"
    },
    "pycharm": {
     "name": "#%% md\n"
    }
   },
   "source": [
    "# Робота з рядками"
   ]
  },
  {
   "cell_type": "markdown",
   "id": "60423850",
   "metadata": {
    "pycharm": {
     "name": "#%% md\n"
    }
   },
   "source": [
    "7.Запишіть у змінну `name` ваше імʼя."
   ]
  },
  {
   "cell_type": "code",
   "execution_count": 38,
   "id": "473006f4",
   "metadata": {
    "ExecuteTime": {
     "end_time": "2023-10-12T14:26:59.335786Z",
     "start_time": "2023-10-12T14:26:59.327319Z"
    },
    "pycharm": {
     "name": "#%%\n"
    }
   },
   "outputs": [
    {
     "data": {
      "text/plain": [
       "'yana'"
      ]
     },
     "execution_count": 38,
     "metadata": {},
     "output_type": "execute_result"
    }
   ],
   "source": [
    "name = \"yana\"\n",
    "name\n"
   ]
  },
  {
   "cell_type": "markdown",
   "id": "4b3acd9d",
   "metadata": {
    "pycharm": {
     "name": "#%% md\n"
    }
   },
   "source": [
    "8.Запишіть у змінну `surname` ваше прізвище."
   ]
  },
  {
   "cell_type": "code",
   "execution_count": 39,
   "id": "c5defe1b",
   "metadata": {
    "ExecuteTime": {
     "end_time": "2023-10-12T14:27:09.069185Z",
     "start_time": "2023-10-12T14:27:09.059791Z"
    },
    "pycharm": {
     "name": "#%%\n"
    }
   },
   "outputs": [
    {
     "data": {
      "text/plain": [
       "'nazarenko'"
      ]
     },
     "execution_count": 39,
     "metadata": {},
     "output_type": "execute_result"
    }
   ],
   "source": [
    "surname = \"nazarenko\"\n",
    "surname\n"
   ]
  },
  {
   "cell_type": "markdown",
   "id": "ab162f8e",
   "metadata": {
    "pycharm": {
     "name": "#%% md\n"
    }
   },
   "source": [
    "9.Сконкатенуйте імʼя та прізвище в одну фразу через пробіл. Запишіть результат у нову змінну `name_surname` та виведіть результат на екран.  "
   ]
  },
  {
   "cell_type": "code",
   "execution_count": 48,
   "id": "522d3253",
   "metadata": {
    "ExecuteTime": {
     "end_time": "2023-10-12T14:31:47.285153Z",
     "start_time": "2023-10-12T14:31:47.279025Z"
    },
    "pycharm": {
     "name": "#%%\n"
    }
   },
   "outputs": [
    {
     "name": "stdout",
     "output_type": "stream",
     "text": [
      "yana nazarenko\n"
     ]
    }
   ],
   "source": [
    "name_surname = name + \" \" + surname\n",
    "print(name_surname)"
   ]
  },
  {
   "cell_type": "markdown",
   "id": "77e679dd",
   "metadata": {
    "pycharm": {
     "name": "#%% md\n"
    }
   },
   "source": [
    "Очікувана відповідь (тільки з вашими даними): 'Hanna Pylieva' "
   ]
  },
  {
   "cell_type": "markdown",
   "id": "e68adcf7",
   "metadata": {
    "pycharm": {
     "name": "#%% md\n"
    }
   },
   "source": [
    "10.Зробіть усі літери змінної `name_surname` заглавними використовуючи метод рядків в Python:"
   ]
  },
  {
   "cell_type": "code",
   "execution_count": 49,
   "id": "1047cda3",
   "metadata": {
    "ExecuteTime": {
     "end_time": "2023-10-12T14:34:19.047526Z",
     "start_time": "2023-10-12T14:34:19.040947Z"
    },
    "pycharm": {
     "name": "#%%\n"
    }
   },
   "outputs": [
    {
     "name": "stdout",
     "output_type": "stream",
     "text": [
      "YANA NAZARENKO\n"
     ]
    }
   ],
   "source": [
    "print(name_surname.upper())"
   ]
  },
  {
   "cell_type": "markdown",
   "id": "20a20420",
   "metadata": {
    "pycharm": {
     "name": "#%% md\n"
    }
   },
   "source": [
    "Очікувана відповідь (тільки з вашими даними): 'HANNA PYLIEVA'"
   ]
  },
  {
   "cell_type": "markdown",
   "id": "e7e1c7ae",
   "metadata": {
    "pycharm": {
     "name": "#%% md\n"
    }
   },
   "source": [
    "11.Виведіть третю літеру вашого `name_surname`. Тут уважно, треба саме третя літера. Згадайте, з якого значення починається індексування значень в Python."
   ]
  },
  {
   "cell_type": "code",
   "execution_count": 50,
   "id": "191baf85",
   "metadata": {
    "ExecuteTime": {
     "end_time": "2023-10-12T14:35:46.227143Z",
     "start_time": "2023-10-12T14:35:46.218270Z"
    },
    "pycharm": {
     "name": "#%%\n"
    }
   },
   "outputs": [
    {
     "data": {
      "text/plain": [
       "'n'"
      ]
     },
     "execution_count": 50,
     "metadata": {},
     "output_type": "execute_result"
    }
   ],
   "source": [
    "name_surname[2]"
   ]
  },
  {
   "cell_type": "markdown",
   "id": "181c489d",
   "metadata": {
    "pycharm": {
     "name": "#%% md\n"
    }
   },
   "source": [
    "Очікувана відповідь (тільки з вашими даними): 'n'"
   ]
  },
  {
   "cell_type": "markdown",
   "id": "1f3cc1a7",
   "metadata": {
    "pycharm": {
     "name": "#%% md\n"
    }
   },
   "source": [
    "12.Виведіть першу та останню літеру вашого прізвища."
   ]
  },
  {
   "cell_type": "code",
   "execution_count": 79,
   "id": "1a4ffd8b",
   "metadata": {
    "ExecuteTime": {
     "end_time": "2023-10-12T15:26:17.112468Z",
     "start_time": "2023-10-12T15:26:17.097166Z"
    },
    "pycharm": {
     "name": "#%%\n"
    }
   },
   "outputs": [
    {
     "name": "stdout",
     "output_type": "stream",
     "text": [
      "9\n",
      "n\n",
      "o\n"
     ]
    }
   ],
   "source": [
    "print(len(surname))\n",
    "print(surname[0])\n",
    "print(surname[-1])"
   ]
  },
  {
   "cell_type": "markdown",
   "id": "df1b4a52",
   "metadata": {
    "pycharm": {
     "name": "#%% md\n"
    }
   },
   "source": [
    "Очікувана відповідь (тільки з вашими даними): ('P', 'a')"
   ]
  },
  {
   "cell_type": "markdown",
   "id": "0ad4f21f",
   "metadata": {
    "pycharm": {
     "name": "#%% md\n"
    }
   },
   "source": [
    "13.Виведіть довжину вашого прізвища."
   ]
  },
  {
   "cell_type": "code",
   "execution_count": 71,
   "id": "8aadf013",
   "metadata": {
    "ExecuteTime": {
     "end_time": "2023-10-12T15:04:35.223282Z",
     "start_time": "2023-10-12T15:04:35.216675Z"
    },
    "pycharm": {
     "name": "#%%\n"
    }
   },
   "outputs": [
    {
     "name": "stdout",
     "output_type": "stream",
     "text": [
      "9\n"
     ]
    }
   ],
   "source": [
    "print(len(surname))"
   ]
  },
  {
   "cell_type": "markdown",
   "id": "ec1a8d38",
   "metadata": {
    "pycharm": {
     "name": "#%% md\n"
    }
   },
   "source": [
    "Очікувана відповідь (тільки з вашими даними): 7"
   ]
  },
  {
   "cell_type": "markdown",
   "id": "fc4ee632",
   "metadata": {
    "pycharm": {
     "name": "#%% md\n"
    }
   },
   "source": [
    "14.Виведіть кількість літер `a` у столиці Мадагаскару `Antananarivo`. Важливо врахувати всі літери, як великі, так і маленькі."
   ]
  },
  {
   "cell_type": "code",
   "execution_count": 81,
   "id": "4c83c237",
   "metadata": {
    "ExecuteTime": {
     "end_time": "2023-10-12T15:30:08.626301Z",
     "start_time": "2023-10-12T15:30:08.614609Z"
    },
    "pycharm": {
     "name": "#%%\n"
    }
   },
   "outputs": [
    {
     "name": "stdout",
     "output_type": "stream",
     "text": [
      "4\n"
     ]
    }
   ],
   "source": [
    "capital_madagascar = \"Antananarivo\"\n",
    "print(capital_madagascar.count(\"a\")+capital_madagascar.count(\"A\"))"
   ]
  },
  {
   "cell_type": "markdown",
   "id": "3b822954",
   "metadata": {
    "pycharm": {
     "name": "#%% md\n"
    }
   },
   "source": [
    "Очікувана відповідь: 4"
   ]
  },
  {
   "cell_type": "markdown",
   "id": "3d7ff9aa",
   "metadata": {
    "ExecuteTime": {
     "end_time": "2023-05-28T22:53:18.824389Z",
     "start_time": "2023-05-28T22:53:18.816117Z"
    }
   },
   "source": [
    "15.Створіть рядок `my_string` зі значенням: \"The quick brown fox jumps over the lazy dog!!!\".   \n",
    "Перевірте, чи починається рядок `my_string` з \"The\" і чи закінчується він \"dog!\". Виведіть результати на екран."
   ]
  },
  {
   "cell_type": "code",
   "execution_count": 83,
   "id": "00c6af56",
   "metadata": {
    "ExecuteTime": {
     "end_time": "2023-10-12T15:34:32.410262Z",
     "start_time": "2023-10-12T15:34:32.399374Z"
    }
   },
   "outputs": [
    {
     "name": "stdout",
     "output_type": "stream",
     "text": [
      "True\n",
      "False\n"
     ]
    }
   ],
   "source": [
    "my_string = \"The quick brown fox jumps over the lazy dog!!!\"\n",
    "print (my_string.startswith(\"The\"))\n",
    "print (my_string.endswith(\"dog\"))"
   ]
  },
  {
   "cell_type": "markdown",
   "id": "49725d46",
   "metadata": {},
   "source": [
    "16.Розділіть рядок `my_string` на список окремих слів, а потім з'єднайте всі слова через нижнє підкреслювання. Виведіть результат на екран."
   ]
  },
  {
   "cell_type": "code",
   "execution_count": 90,
   "id": "13e3d90a",
   "metadata": {
    "ExecuteTime": {
     "end_time": "2023-10-12T15:43:27.454146Z",
     "start_time": "2023-10-12T15:43:27.434495Z"
    }
   },
   "outputs": [
    {
     "name": "stdout",
     "output_type": "stream",
     "text": [
      "['The', 'quick', 'brown', 'fox', 'jumps', 'over', 'the', 'lazy', 'dog!!!']\n",
      "The_quick_brown_fox_jumps_over_the_lazy_dog!!!\n"
     ]
    }
   ],
   "source": [
    "print(my_string.split())\n",
    "print(\"_\".join(['The', 'quick', 'brown', 'fox', 'jumps', 'over', 'the', 'lazy', 'dog!!!']))\n"
   ]
  },
  {
   "cell_type": "markdown",
   "id": "5803bd7c",
   "metadata": {},
   "source": [
    "Очікуваний результат: `The_quick_brown_fox_jumps_over_the_lazy_dog!!!`"
   ]
  },
  {
   "cell_type": "markdown",
   "id": "8365109c",
   "metadata": {
    "pycharm": {
     "name": "#%% md\n"
    }
   },
   "source": [
    "# Робота зі колекціями"
   ]
  },
  {
   "cell_type": "markdown",
   "id": "efd4a344",
   "metadata": {
    "pycharm": {
     "name": "#%% md\n"
    }
   },
   "source": [
    "У нас є наступний список:"
   ]
  },
  {
   "cell_type": "code",
   "execution_count": 120,
   "id": "33f9a114",
   "metadata": {
    "ExecuteTime": {
     "end_time": "2023-10-12T16:25:22.338637Z",
     "start_time": "2023-10-12T16:25:22.323123Z"
    },
    "pycharm": {
     "name": "#%%\n"
    }
   },
   "outputs": [],
   "source": [
    "my_list = [\n",
    "    78, 12, 14, 27, 47, 28, 51, 46, 94, 37, 42, 20, 52, 33, 11, 11, 51,\n",
    "    20, 81, 54, 86, 51, 38, 42, 49, 99, 76, 17,  9, 23, 97, 29, 29, 63,\n",
    "    40, 11, 31, 76, 15, 21, 29, 75, 35,  2, 10, 71, 17, 10, 13,  7, 44,\n",
    "    12, 19, 61, 13, 25, 62, 46, 10, 44, 75, 57, 20, 57,  3, 44, 16, 28,\n",
    "    79, 57, 62, 70, 95,  8, 47, 82, 80, 45, 36, 44, 79, 95, 73, 42, 29,\n",
    "    83, 80, 66, 56,  8, 73,  5, 99, 65, 65, 98, 17, 36, 16, 60]"
   ]
  },
  {
   "cell_type": "markdown",
   "id": "77d55ecf",
   "metadata": {
    "pycharm": {
     "name": "#%% md\n"
    }
   },
   "source": [
    "Будемо з ним працювати в наступних завданнях."
   ]
  },
  {
   "cell_type": "markdown",
   "id": "7a9d114b",
   "metadata": {
    "pycharm": {
     "name": "#%% md\n"
    }
   },
   "source": [
    "17.Виведіть 5 перших елементів списку `my_list` з допомогою слайсингу."
   ]
  },
  {
   "cell_type": "code",
   "execution_count": 93,
   "id": "1a6e26e9",
   "metadata": {
    "ExecuteTime": {
     "end_time": "2023-10-12T15:45:34.630713Z",
     "start_time": "2023-10-12T15:45:34.615927Z"
    },
    "pycharm": {
     "name": "#%%\n"
    }
   },
   "outputs": [
    {
     "data": {
      "text/plain": [
       "[78, 12, 14, 27, 47]"
      ]
     },
     "execution_count": 93,
     "metadata": {},
     "output_type": "execute_result"
    }
   ],
   "source": [
    "my_list [0:5]"
   ]
  },
  {
   "cell_type": "markdown",
   "id": "0c995ae4",
   "metadata": {
    "pycharm": {
     "name": "#%% md\n"
    }
   },
   "source": [
    "Очікувана відповідь: [78, 12, 14, 27, 47]"
   ]
  },
  {
   "cell_type": "markdown",
   "id": "3cd8551a",
   "metadata": {
    "ExecuteTime": {
     "end_time": "2023-05-28T22:46:26.546845Z",
     "start_time": "2023-05-28T22:46:26.540558Z"
    }
   },
   "source": [
    "18.Виведіть 3 останніх елементи списку `my_list` з допомогою слайсингу."
   ]
  },
  {
   "cell_type": "code",
   "execution_count": 121,
   "id": "1f19fd19",
   "metadata": {
    "ExecuteTime": {
     "end_time": "2023-10-12T16:25:26.422966Z",
     "start_time": "2023-10-12T16:25:26.411339Z"
    }
   },
   "outputs": [
    {
     "name": "stdout",
     "output_type": "stream",
     "text": [
      "[36, 16, 60]\n"
     ]
    }
   ],
   "source": [
    "print(my_list [-3:])"
   ]
  },
  {
   "cell_type": "markdown",
   "id": "34fd7280",
   "metadata": {},
   "source": [
    "19.Відсортуйте за зростанням список `my_list`, запишіть результат у змінну `my_list_sorted` та виведіть значення нової змінної на екран."
   ]
  },
  {
   "cell_type": "code",
   "execution_count": 123,
   "id": "421c579c",
   "metadata": {
    "ExecuteTime": {
     "end_time": "2023-10-12T16:31:27.144800Z",
     "start_time": "2023-10-12T16:31:27.131313Z"
    },
    "scrolled": true
   },
   "outputs": [
    {
     "name": "stdout",
     "output_type": "stream",
     "text": [
      "[2, 3, 5, 7, 8, 8, 9, 10, 10, 10, 11, 11, 11, 12, 12, 13, 13, 14, 15, 16, 16, 17, 17, 17, 19, 20, 20, 20, 21, 23, 25, 27, 28, 28, 29, 29, 29, 29, 31, 33, 35, 36, 36, 37, 38, 40, 42, 42, 42, 44, 44, 44, 44, 45, 46, 46, 47, 47, 49, 51, 51, 51, 52, 54, 56, 57, 57, 57, 60, 61, 62, 62, 63, 65, 65, 66, 70, 71, 73, 73, 75, 75, 76, 76, 78, 79, 79, 80, 80, 81, 82, 83, 86, 94, 95, 95, 97, 98, 99, 99]\n"
     ]
    }
   ],
   "source": [
    "my_list_sorted = sorted(my_list)\n",
    "print(my_list_sorted)"
   ]
  },
  {
   "cell_type": "markdown",
   "id": "58a98ef0",
   "metadata": {
    "pycharm": {
     "name": "#%% md\n"
    }
   },
   "source": [
    "20.Виведіть максимальний і мінімальний елемент у списку `my_list`. Сформуйте відповідь у наступному форматі\n",
    "```\n",
    "Max element  <число>\n",
    "Min element  <число>\n",
    "```\n",
    "Можна скористатись результатом з попереднього завдання, або спеціальними фукнціями."
   ]
  },
  {
   "cell_type": "code",
   "execution_count": 125,
   "id": "008f459c",
   "metadata": {
    "ExecuteTime": {
     "end_time": "2023-10-12T16:36:24.098233Z",
     "start_time": "2023-10-12T16:36:24.082329Z"
    },
    "pycharm": {
     "name": "#%%\n"
    }
   },
   "outputs": [
    {
     "data": {
      "text/plain": [
       "(99, 2)"
      ]
     },
     "execution_count": 125,
     "metadata": {},
     "output_type": "execute_result"
    }
   ],
   "source": [
    "max(my_list), min(my_list)"
   ]
  },
  {
   "cell_type": "markdown",
   "id": "c19c1cf7",
   "metadata": {
    "pycharm": {
     "name": "#%% md\n"
    }
   },
   "source": [
    "Очікувана відповідь: \n",
    "\n",
    "```\n",
    "Max element  99\n",
    "Min element  2\n",
    "```"
   ]
  },
  {
   "cell_type": "markdown",
   "id": "4e43e698",
   "metadata": {
    "pycharm": {
     "name": "#%% md\n"
    }
   },
   "source": [
    "21.Створіть новий список `my_list_2`, який містить кожен 11-й елемент списку `my_list`. Виведіть `my_list_2` на екран.  \n",
    "Памʼятаємо, що перший з \"кожного одинадцятого елементу\" списку має індекс 10.\n",
    "Для виконання завдання використайте слайсинг."
   ]
  },
  {
   "cell_type": "code",
   "execution_count": 127,
   "id": "5b4c4729",
   "metadata": {
    "ExecuteTime": {
     "end_time": "2023-10-12T16:38:25.415767Z",
     "start_time": "2023-10-12T16:38:25.404394Z"
    },
    "pycharm": {
     "name": "#%%\n"
    }
   },
   "outputs": [
    {
     "name": "stdout",
     "output_type": "stream",
     "text": [
      "[2, 11, 17, 28, 38, 46, 57, 71, 80, 99]\n"
     ]
    }
   ],
   "source": [
    "my_list_2= my_list [0::11]\n",
    "print(my_list_2)"
   ]
  },
  {
   "cell_type": "markdown",
   "id": "0c734831",
   "metadata": {
    "ExecuteTime": {
     "end_time": "2023-01-20T20:10:37.303981Z",
     "start_time": "2023-01-20T20:10:37.275706Z"
    },
    "pycharm": {
     "name": "#%%\n"
    }
   },
   "source": [
    "Очікуваний результат: `[42, 51, 29, 2, 13, 44, 80, 66, 16]`"
   ]
  },
  {
   "cell_type": "markdown",
   "id": "7a53cdf6",
   "metadata": {},
   "source": [
    "22.Заданий список `new_list`. Перетворіть його на набір (set). Які зміни у наборі елементів Ви помітили? Відповідь напишіть у коментарі до коду (саме в клітинці з кодом). "
   ]
  },
  {
   "cell_type": "code",
   "execution_count": 133,
   "id": "253ce9cd",
   "metadata": {
    "ExecuteTime": {
     "end_time": "2023-10-12T16:52:21.314222Z",
     "start_time": "2023-10-12T16:52:21.301647Z"
    }
   },
   "outputs": [],
   "source": [
    "new_list = [22, 11, 67, 11, 88, 3213, 12, 78, 67, 11, 16, 15, 88]"
   ]
  },
  {
   "cell_type": "code",
   "execution_count": 129,
   "id": "51675f55",
   "metadata": {
    "ExecuteTime": {
     "end_time": "2023-10-12T16:42:14.690588Z",
     "start_time": "2023-10-12T16:42:14.671616Z"
    }
   },
   "outputs": [
    {
     "data": {
      "text/plain": [
       "{11, 12, 15, 16, 22, 67, 78, 88, 3213}"
      ]
     },
     "execution_count": 129,
     "metadata": {},
     "output_type": "execute_result"
    }
   ],
   "source": [
    "set ([22, 11, 67, 11, 88, 3213, 12, 78, 67, 11, 16, 15, 88]) #ми бачимо унікальність елементів "
   ]
  },
  {
   "cell_type": "markdown",
   "id": "55ad6301",
   "metadata": {},
   "source": [
    "23.Аби отримати скільки разів зустрічається деякий елемент в списку, зручно використовувати метод count(). Працює це наступним чином:\n",
    "```\n",
    "some_list = [1,1,1,2,2]\n",
    "some_list.count(1)\n",
    "# 3\n",
    "```\n",
    "\n",
    "Виведіть, скільки разів зустрічається число 11 у списку `new_list`."
   ]
  },
  {
   "cell_type": "code",
   "execution_count": 134,
   "id": "b6b3167d",
   "metadata": {
    "ExecuteTime": {
     "end_time": "2023-10-12T16:52:23.977672Z",
     "start_time": "2023-10-12T16:52:23.966128Z"
    }
   },
   "outputs": [
    {
     "data": {
      "text/plain": [
       "3"
      ]
     },
     "execution_count": 134,
     "metadata": {},
     "output_type": "execute_result"
    }
   ],
   "source": [
    "new_list.count(11)\n"
   ]
  },
  {
   "cell_type": "markdown",
   "id": "bb774892",
   "metadata": {},
   "source": [
    "24.Наостанок, попрактикуємось працювати зі словниками. Це завдання включає 4 невеличких пункти:\n",
    "\n",
    "1. Створіть словник, що містить 5 пар ключ-значення, де ключі - це імена студентів (типу рядок), а значення - їхні оцінки з програмування від 1 до 12. Запишіть словник у змінну.\n",
    "2. Виведіть весь словник на екран. Важливо, аби словник вивівся на екран в jupyter notebook, будь-який спосіб, який це робить, нам підходить.\n",
    "3. Додайте до словника нового студента та його оцінку.\n",
    "4. Виведіть оцінку одного конкретного студента, звертаючись до неї за його ім'ям."
   ]
  },
  {
   "cell_type": "code",
   "execution_count": 142,
   "id": "d878c75e",
   "metadata": {
    "ExecuteTime": {
     "end_time": "2023-10-12T20:40:30.479103Z",
     "start_time": "2023-10-12T20:40:30.467881Z"
    },
    "scrolled": true
   },
   "outputs": [
    {
     "name": "stdout",
     "output_type": "stream",
     "text": [
      "{'Juan': 12, 'Paco': 10, 'Sara': 8, 'Pepe': 2, 'Elena': 4, 'Pilar': 7}\n",
      "12\n"
     ]
    }
   ],
   "source": [
    "new_dict= {}\n",
    "new_dict['Juan'] = 12\n",
    "new_dict['Paco'] = 10\n",
    "new_dict['Sara'] = 8\n",
    "new_dict['Pepe'] = 2\n",
    "new_dict['Elena'] = 4\n",
    "new_dict\n",
    "new_dict['Pilar'] = 7\n",
    "print(new_dict)\n",
    "print(new_dict['Juan'])\n"
   ]
  },
  {
   "cell_type": "markdown",
   "id": "bb70f24a",
   "metadata": {
    "pycharm": {
     "name": "#%% md\n"
    }
   },
   "source": [
    "# Ураа!! Ви завершили перше домашнє завдання!!!  \n",
    "Аби здати ДЗ - залийте ноутбук у гітхаб репозиторій, який ви створили у перші дні навчання на курсі, та додайте посилання на файл у відповідному завданні на навчальній платформі.\n",
    "Так тримати! 🚀🚀🚀"
   ]
  }
 ],
 "metadata": {
  "kernelspec": {
   "display_name": "Python 3 (ipykernel)",
   "language": "python",
   "name": "python3"
  },
  "language_info": {
   "codemirror_mode": {
    "name": "ipython",
    "version": 3
   },
   "file_extension": ".py",
   "mimetype": "text/x-python",
   "name": "python",
   "nbconvert_exporter": "python",
   "pygments_lexer": "ipython3",
   "version": "3.11.5"
  },
  "toc": {
   "base_numbering": 1,
   "nav_menu": {},
   "number_sections": true,
   "sideBar": true,
   "skip_h1_title": false,
   "title_cell": "Table of Contents",
   "title_sidebar": "Contents",
   "toc_cell": false,
   "toc_position": {},
   "toc_section_display": true,
   "toc_window_display": false
  }
 },
 "nbformat": 4,
 "nbformat_minor": 5
}
