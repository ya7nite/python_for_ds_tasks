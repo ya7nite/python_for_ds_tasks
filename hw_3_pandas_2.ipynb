{
 "cells": [
  {
   "cell_type": "markdown",
   "id": "6bbb4b6a",
   "metadata": {},
   "source": [
    "# 3: Pandas"
   ]
  },
  {
   "cell_type": "markdown",
   "id": "7ef4e602",
   "metadata": {},
   "source": [
    "Ми працюємо з набором даних про продажі в різних магазинах мережі супермаркетів. Дані взяті з Kaggle, за [посиланням](https://www.kaggle.com/aungpyaeap/supermarket-sales) Ви можете знайти їх опис. \n",
    "В даному наборі даних ми будемо розуміти кожен рядок (унікальний Invoice ID) як одне **відвідування супермаркету**.\n",
    "\n",
    "\n",
    "In this set, we work with sales data in various stores of the supermarket chain. The data is taken from Kaggle, at [link](https://www.kaggle.com/aungpyaeap/supermarket-sales) you can find its description.\n",
    "In this data set, we will understand each row (unique Invoice ID) as one **supermarket visit**."
   ]
  },
  {
   "cell_type": "code",
   "execution_count": 1,
   "id": "acaf127d",
   "metadata": {
    "ExecuteTime": {
     "end_time": "2023-11-15T22:55:30.850647Z",
     "start_time": "2023-11-15T22:55:29.587638Z"
    }
   },
   "outputs": [],
   "source": [
    "import pandas as pd\n",
    "import numpy as np"
   ]
  },
  {
   "cell_type": "code",
   "execution_count": 2,
   "id": "0b73a359",
   "metadata": {
    "ExecuteTime": {
     "end_time": "2023-11-15T22:55:31.631280Z",
     "start_time": "2023-11-15T22:55:31.549488Z"
    }
   },
   "outputs": [],
   "source": [
    "df = pd.read_csv(\"supermarket_sales_2.csv\")"
   ]
  },
  {
   "cell_type": "markdown",
   "id": "ca064875",
   "metadata": {
    "ExecuteTime": {
     "end_time": "2021-09-20T19:44:56.499824Z",
     "start_time": "2021-09-20T19:44:56.496923Z"
    }
   },
   "source": [
    "1.За допомогою бібліотеки Pandas виводимо 4 і останні 4 записи у наборі даних.<br>\n",
    "  Using the Pandas library, we display the 4 and last 4 records in the data set. "
   ]
  },
  {
   "cell_type": "code",
   "execution_count": 4,
   "id": "d095f26b",
   "metadata": {
    "ExecuteTime": {
     "end_time": "2023-11-13T11:15:45.447703Z",
     "start_time": "2023-11-13T11:15:45.414117Z"
    }
   },
   "outputs": [
    {
     "data": {
      "text/html": [
       "<div>\n",
       "<style scoped>\n",
       "    .dataframe tbody tr th:only-of-type {\n",
       "        vertical-align: middle;\n",
       "    }\n",
       "\n",
       "    .dataframe tbody tr th {\n",
       "        vertical-align: top;\n",
       "    }\n",
       "\n",
       "    .dataframe thead th {\n",
       "        text-align: right;\n",
       "    }\n",
       "</style>\n",
       "<table border=\"1\" class=\"dataframe\">\n",
       "  <thead>\n",
       "    <tr style=\"text-align: right;\">\n",
       "      <th></th>\n",
       "      <th>Invoice ID</th>\n",
       "      <th>Branch</th>\n",
       "      <th>City</th>\n",
       "      <th>Customer type</th>\n",
       "      <th>Gender</th>\n",
       "      <th>Product line</th>\n",
       "      <th>Unit price</th>\n",
       "      <th>Quantity</th>\n",
       "      <th>Tax 5%</th>\n",
       "      <th>Total</th>\n",
       "      <th>Date</th>\n",
       "      <th>Time</th>\n",
       "      <th>Payment</th>\n",
       "      <th>cogs</th>\n",
       "      <th>gross margin percentage</th>\n",
       "      <th>gross income</th>\n",
       "      <th>Rating</th>\n",
       "    </tr>\n",
       "  </thead>\n",
       "  <tbody>\n",
       "    <tr>\n",
       "      <th>0</th>\n",
       "      <td>750-67-8428</td>\n",
       "      <td>A</td>\n",
       "      <td>Yangon</td>\n",
       "      <td>Member</td>\n",
       "      <td>Female</td>\n",
       "      <td>Health and beauty</td>\n",
       "      <td>74.69</td>\n",
       "      <td>7</td>\n",
       "      <td>26.1415</td>\n",
       "      <td>548.9715</td>\n",
       "      <td>1/5/2019</td>\n",
       "      <td>13:08</td>\n",
       "      <td>Ewallet</td>\n",
       "      <td>522.83</td>\n",
       "      <td>4.761905</td>\n",
       "      <td>26.1415</td>\n",
       "      <td>9.1</td>\n",
       "    </tr>\n",
       "    <tr>\n",
       "      <th>1</th>\n",
       "      <td>226-31-3081</td>\n",
       "      <td>C</td>\n",
       "      <td>Naypyitaw</td>\n",
       "      <td>Normal</td>\n",
       "      <td>Female</td>\n",
       "      <td>Electronic accessories</td>\n",
       "      <td>15.28</td>\n",
       "      <td>5</td>\n",
       "      <td>3.8200</td>\n",
       "      <td>80.2200</td>\n",
       "      <td>3/8/2019</td>\n",
       "      <td>10:29</td>\n",
       "      <td>Cash</td>\n",
       "      <td>76.40</td>\n",
       "      <td>4.761905</td>\n",
       "      <td>3.8200</td>\n",
       "      <td>9.6</td>\n",
       "    </tr>\n",
       "    <tr>\n",
       "      <th>2</th>\n",
       "      <td>631-41-3108</td>\n",
       "      <td>A</td>\n",
       "      <td>Yangon</td>\n",
       "      <td>Normal</td>\n",
       "      <td>Male</td>\n",
       "      <td>Home and lifestyle</td>\n",
       "      <td>46.33</td>\n",
       "      <td>7</td>\n",
       "      <td>16.2155</td>\n",
       "      <td>340.5255</td>\n",
       "      <td>3/3/2019</td>\n",
       "      <td>13:23</td>\n",
       "      <td>Credit card</td>\n",
       "      <td>324.31</td>\n",
       "      <td>4.761905</td>\n",
       "      <td>16.2155</td>\n",
       "      <td>7.4</td>\n",
       "    </tr>\n",
       "    <tr>\n",
       "      <th>3</th>\n",
       "      <td>123-19-1176</td>\n",
       "      <td>A</td>\n",
       "      <td>Yangon</td>\n",
       "      <td>Member</td>\n",
       "      <td>Male</td>\n",
       "      <td>Health and beauty</td>\n",
       "      <td>58.22</td>\n",
       "      <td>8</td>\n",
       "      <td>23.2880</td>\n",
       "      <td>489.0480</td>\n",
       "      <td>1/27/2019</td>\n",
       "      <td>20:33</td>\n",
       "      <td>Ewallet</td>\n",
       "      <td>465.76</td>\n",
       "      <td>4.761905</td>\n",
       "      <td>23.2880</td>\n",
       "      <td>8.4</td>\n",
       "    </tr>\n",
       "  </tbody>\n",
       "</table>\n",
       "</div>"
      ],
      "text/plain": [
       "    Invoice ID Branch       City Customer type  Gender  \\\n",
       "0  750-67-8428      A     Yangon        Member  Female   \n",
       "1  226-31-3081      C  Naypyitaw        Normal  Female   \n",
       "2  631-41-3108      A     Yangon        Normal    Male   \n",
       "3  123-19-1176      A     Yangon        Member    Male   \n",
       "\n",
       "             Product line  Unit price  Quantity   Tax 5%     Total       Date  \\\n",
       "0       Health and beauty       74.69         7  26.1415  548.9715   1/5/2019   \n",
       "1  Electronic accessories       15.28         5   3.8200   80.2200   3/8/2019   \n",
       "2      Home and lifestyle       46.33         7  16.2155  340.5255   3/3/2019   \n",
       "3       Health and beauty       58.22         8  23.2880  489.0480  1/27/2019   \n",
       "\n",
       "    Time      Payment    cogs  gross margin percentage  gross income  Rating  \n",
       "0  13:08      Ewallet  522.83                 4.761905       26.1415     9.1  \n",
       "1  10:29         Cash   76.40                 4.761905        3.8200     9.6  \n",
       "2  13:23  Credit card  324.31                 4.761905       16.2155     7.4  \n",
       "3  20:33      Ewallet  465.76                 4.761905       23.2880     8.4  "
      ]
     },
     "execution_count": 4,
     "metadata": {},
     "output_type": "execute_result"
    }
   ],
   "source": [
    "df.head(4)"
   ]
  },
  {
   "cell_type": "code",
   "execution_count": 79,
   "id": "22dda11c",
   "metadata": {
    "ExecuteTime": {
     "end_time": "2023-11-15T11:55:00.890082Z",
     "start_time": "2023-11-15T11:55:00.825082Z"
    }
   },
   "outputs": [
    {
     "data": {
      "text/html": [
       "<div>\n",
       "<style scoped>\n",
       "    .dataframe tbody tr th:only-of-type {\n",
       "        vertical-align: middle;\n",
       "    }\n",
       "\n",
       "    .dataframe tbody tr th {\n",
       "        vertical-align: top;\n",
       "    }\n",
       "\n",
       "    .dataframe thead th {\n",
       "        text-align: right;\n",
       "    }\n",
       "</style>\n",
       "<table border=\"1\" class=\"dataframe\">\n",
       "  <thead>\n",
       "    <tr style=\"text-align: right;\">\n",
       "      <th></th>\n",
       "      <th>Invoice ID</th>\n",
       "      <th>Branch</th>\n",
       "      <th>City</th>\n",
       "      <th>Customer type</th>\n",
       "      <th>Gender</th>\n",
       "      <th>Product line</th>\n",
       "      <th>Unit price</th>\n",
       "      <th>Quantity</th>\n",
       "      <th>Tax 5%</th>\n",
       "      <th>Total</th>\n",
       "      <th>Date</th>\n",
       "      <th>Time</th>\n",
       "      <th>Payment</th>\n",
       "      <th>cogs</th>\n",
       "      <th>gross margin percentage</th>\n",
       "      <th>gross income</th>\n",
       "      <th>Rating</th>\n",
       "      <th>Hours</th>\n",
       "      <th>Day of week</th>\n",
       "      <th>Month of year</th>\n",
       "    </tr>\n",
       "  </thead>\n",
       "  <tbody>\n",
       "    <tr>\n",
       "      <th>996</th>\n",
       "      <td>303-96-2227</td>\n",
       "      <td>B</td>\n",
       "      <td>Mandalay</td>\n",
       "      <td>Normal</td>\n",
       "      <td>Female</td>\n",
       "      <td>Home and lifestyle</td>\n",
       "      <td>97.38</td>\n",
       "      <td>10</td>\n",
       "      <td>48.690</td>\n",
       "      <td>1022.490</td>\n",
       "      <td>2019-03-02</td>\n",
       "      <td>17:16</td>\n",
       "      <td>Ewallet</td>\n",
       "      <td>973.80</td>\n",
       "      <td>4.761905</td>\n",
       "      <td>48.690</td>\n",
       "      <td>4.4</td>\n",
       "      <td>17</td>\n",
       "      <td>Saturday</td>\n",
       "      <td>March</td>\n",
       "    </tr>\n",
       "    <tr>\n",
       "      <th>997</th>\n",
       "      <td>727-02-1313</td>\n",
       "      <td>A</td>\n",
       "      <td>Yangon</td>\n",
       "      <td>Member</td>\n",
       "      <td>Male</td>\n",
       "      <td>Food and beverages</td>\n",
       "      <td>31.84</td>\n",
       "      <td>1</td>\n",
       "      <td>1.592</td>\n",
       "      <td>33.432</td>\n",
       "      <td>2019-02-09</td>\n",
       "      <td>13:22</td>\n",
       "      <td>Cash</td>\n",
       "      <td>31.84</td>\n",
       "      <td>4.761905</td>\n",
       "      <td>1.592</td>\n",
       "      <td>7.7</td>\n",
       "      <td>13</td>\n",
       "      <td>Saturday</td>\n",
       "      <td>February</td>\n",
       "    </tr>\n",
       "    <tr>\n",
       "      <th>998</th>\n",
       "      <td>347-56-2442</td>\n",
       "      <td>A</td>\n",
       "      <td>Yangon</td>\n",
       "      <td>Normal</td>\n",
       "      <td>Male</td>\n",
       "      <td>Home and lifestyle</td>\n",
       "      <td>65.82</td>\n",
       "      <td>1</td>\n",
       "      <td>3.291</td>\n",
       "      <td>69.111</td>\n",
       "      <td>2019-02-22</td>\n",
       "      <td>15:33</td>\n",
       "      <td>Cash</td>\n",
       "      <td>65.82</td>\n",
       "      <td>4.761905</td>\n",
       "      <td>3.291</td>\n",
       "      <td>4.1</td>\n",
       "      <td>15</td>\n",
       "      <td>Friday</td>\n",
       "      <td>February</td>\n",
       "    </tr>\n",
       "    <tr>\n",
       "      <th>999</th>\n",
       "      <td>849-09-3807</td>\n",
       "      <td>A</td>\n",
       "      <td>Yangon</td>\n",
       "      <td>Member</td>\n",
       "      <td>Female</td>\n",
       "      <td>Fashion accessories</td>\n",
       "      <td>88.34</td>\n",
       "      <td>7</td>\n",
       "      <td>30.919</td>\n",
       "      <td>649.299</td>\n",
       "      <td>2019-02-18</td>\n",
       "      <td>13:28</td>\n",
       "      <td>Cash</td>\n",
       "      <td>618.38</td>\n",
       "      <td>4.761905</td>\n",
       "      <td>30.919</td>\n",
       "      <td>6.6</td>\n",
       "      <td>13</td>\n",
       "      <td>Monday</td>\n",
       "      <td>February</td>\n",
       "    </tr>\n",
       "  </tbody>\n",
       "</table>\n",
       "</div>"
      ],
      "text/plain": [
       "      Invoice ID Branch      City Customer type  Gender         Product line  \\\n",
       "996  303-96-2227      B  Mandalay        Normal  Female   Home and lifestyle   \n",
       "997  727-02-1313      A    Yangon        Member    Male   Food and beverages   \n",
       "998  347-56-2442      A    Yangon        Normal    Male   Home and lifestyle   \n",
       "999  849-09-3807      A    Yangon        Member  Female  Fashion accessories   \n",
       "\n",
       "     Unit price  Quantity  Tax 5%     Total       Date   Time  Payment  \\\n",
       "996       97.38        10  48.690  1022.490 2019-03-02  17:16  Ewallet   \n",
       "997       31.84         1   1.592    33.432 2019-02-09  13:22     Cash   \n",
       "998       65.82         1   3.291    69.111 2019-02-22  15:33     Cash   \n",
       "999       88.34         7  30.919   649.299 2019-02-18  13:28     Cash   \n",
       "\n",
       "       cogs  gross margin percentage  gross income  Rating  Hours Day of week  \\\n",
       "996  973.80                 4.761905        48.690     4.4     17    Saturday   \n",
       "997   31.84                 4.761905         1.592     7.7     13    Saturday   \n",
       "998   65.82                 4.761905         3.291     4.1     15      Friday   \n",
       "999  618.38                 4.761905        30.919     6.6     13      Monday   \n",
       "\n",
       "    Month of year  \n",
       "996         March  \n",
       "997      February  \n",
       "998      February  \n",
       "999      February  "
      ]
     },
     "execution_count": 79,
     "metadata": {},
     "output_type": "execute_result"
    }
   ],
   "source": [
    "df.tail(4)"
   ]
  },
  {
   "cell_type": "markdown",
   "id": "33661c15",
   "metadata": {
    "ExecuteTime": {
     "end_time": "2022-11-01T16:51:38.594974Z",
     "start_time": "2022-11-01T16:51:38.591423Z"
    }
   },
   "source": [
    "2.Виводимо кількість рядків і кількість колонок в наборі даних.<br>\n",
    "We display the number of rows and the number of columns in the data set."
   ]
  },
  {
   "cell_type": "code",
   "execution_count": 10,
   "id": "bac0cbfc",
   "metadata": {
    "ExecuteTime": {
     "end_time": "2023-11-13T11:24:06.622994Z",
     "start_time": "2023-11-13T11:24:06.618435Z"
    }
   },
   "outputs": [],
   "source": [
    "df_shape = df.shape"
   ]
  },
  {
   "cell_type": "code",
   "execution_count": 13,
   "id": "3f70f768",
   "metadata": {
    "ExecuteTime": {
     "end_time": "2023-11-13T11:25:01.477195Z",
     "start_time": "2023-11-13T11:25:01.469946Z"
    }
   },
   "outputs": [
    {
     "name": "stdout",
     "output_type": "stream",
     "text": [
      "Набір данних має 1000 рядків та 17 колонок\n"
     ]
    }
   ],
   "source": [
    "print(f\"Набір данних має {df_shape[0]} рядків та {df_shape[1]} колонок\")\n",
    "print(f\"The data set contains {df_shape[0]} rows and {df_shape[1]} columns\")"
   ]
  },
  {
   "cell_type": "markdown",
   "id": "2d54e0e4",
   "metadata": {},
   "source": [
    "3. Виводимо назви колонок у наборі даних разом з їхніми типами.<br>\n",
    "We display the names of the columns in the data set together with their types."
   ]
  },
  {
   "cell_type": "code",
   "execution_count": 15,
   "id": "513f5a99",
   "metadata": {
    "ExecuteTime": {
     "end_time": "2023-11-13T11:27:18.309873Z",
     "start_time": "2023-11-13T11:27:18.299525Z"
    }
   },
   "outputs": [
    {
     "data": {
      "text/plain": [
       "Invoice ID                  object\n",
       "Branch                      object\n",
       "City                        object\n",
       "Customer type               object\n",
       "Gender                      object\n",
       "Product line                object\n",
       "Unit price                 float64\n",
       "Quantity                     int64\n",
       "Tax 5%                     float64\n",
       "Total                      float64\n",
       "Date                        object\n",
       "Time                        object\n",
       "Payment                     object\n",
       "cogs                       float64\n",
       "gross margin percentage    float64\n",
       "gross income               float64\n",
       "Rating                     float64\n",
       "dtype: object"
      ]
     },
     "execution_count": 15,
     "metadata": {},
     "output_type": "execute_result"
    }
   ],
   "source": [
    "df.dtypes"
   ]
  },
  {
   "cell_type": "markdown",
   "id": "75f38c1e",
   "metadata": {
    "ExecuteTime": {
     "end_time": "2021-09-20T19:46:49.248936Z",
     "start_time": "2021-09-20T19:46:49.245644Z"
    }
   },
   "source": [
    "4.Виводимо скільки є колонок та якого типу (текстового, int, float)<br>\n",
    "We display how many columns there are and of what type (text, int, float)"
   ]
  },
  {
   "cell_type": "code",
   "execution_count": 43,
   "id": "62afdd41",
   "metadata": {
    "ExecuteTime": {
     "end_time": "2023-11-13T11:57:01.102643Z",
     "start_time": "2023-11-13T11:57:01.079779Z"
    }
   },
   "outputs": [
    {
     "data": {
      "text/plain": [
       "object     9\n",
       "float64    7\n",
       "int64      1\n",
       "Name: count, dtype: int64"
      ]
     },
     "execution_count": 43,
     "metadata": {},
     "output_type": "execute_result"
    }
   ],
   "source": [
    "df.dtypes.value_counts()"
   ]
  },
  {
   "cell_type": "markdown",
   "id": "815f9cc0",
   "metadata": {},
   "source": [
    "5. Виводимо скільки всього відвідувань (кількість інвойсів) зробили покупці з різним типом клієнта (`Customer type`)<br>\n",
    " We display how many total visits (number of invoices) were made by buyers with different types of clients (`Customer type')"
   ]
  },
  {
   "cell_type": "code",
   "execution_count": 46,
   "id": "0247e60a",
   "metadata": {
    "ExecuteTime": {
     "end_time": "2023-11-13T12:05:24.481428Z",
     "start_time": "2023-11-13T12:05:24.466667Z"
    }
   },
   "outputs": [
    {
     "data": {
      "text/plain": [
       "Customer type\n",
       "Member    501\n",
       "Normal    499\n",
       "Name: count, dtype: int64"
      ]
     },
     "execution_count": 46,
     "metadata": {},
     "output_type": "execute_result"
    }
   ],
   "source": [
    "df[\"Customer type\"].value_counts()"
   ]
  },
  {
   "cell_type": "markdown",
   "id": "f4c8d00f",
   "metadata": {},
   "source": [
    "6.Виводимо які є продуктові лінії (колонка 'Product line') в наборі даних <br>\n",
    "We display what are the product lines ('Product line' column) in the data set."
   ]
  },
  {
   "cell_type": "code",
   "execution_count": 7,
   "id": "61ae9569",
   "metadata": {
    "ExecuteTime": {
     "end_time": "2023-11-13T22:22:08.590994Z",
     "start_time": "2023-11-13T22:22:08.581058Z"
    }
   },
   "outputs": [
    {
     "data": {
      "text/plain": [
       "array({'Home and lifestyle', 'Health and beauty', 'Electronic accessories', 'Food and beverages', 'Sports and travel', 'Fashion accessories'},\n",
       "      dtype=object)"
      ]
     },
     "execution_count": 7,
     "metadata": {},
     "output_type": "execute_result"
    }
   ],
   "source": [
    "np.array(set(df[\"Product line\"]))"
   ]
  },
  {
   "cell_type": "markdown",
   "id": "7d3dc308",
   "metadata": {
    "ExecuteTime": {
     "end_time": "2021-09-20T19:54:26.232269Z",
     "start_time": "2021-09-20T19:54:26.229253Z"
    }
   },
   "source": [
    "7.Виводимо середню ціну товару в кожній продуктовій лінії.\n",
    "Ціна товару міститься в колонці `'Unit price'`<br>\n",
    "We derive the average price of the product in each product line.\n",
    "The product price is contained in the ``Unit price'' column"
   ]
  },
  {
   "cell_type": "code",
   "execution_count": 9,
   "id": "2a9b94c5",
   "metadata": {
    "ExecuteTime": {
     "end_time": "2023-11-13T22:28:39.990554Z",
     "start_time": "2023-11-13T22:28:39.964525Z"
    }
   },
   "outputs": [
    {
     "data": {
      "text/plain": [
       "Product line\n",
       "Electronic accessories    53.551588\n",
       "Fashion accessories       57.153652\n",
       "Food and beverages        56.008851\n",
       "Health and beauty         54.854474\n",
       "Home and lifestyle        55.316937\n",
       "Sports and travel         56.993253\n",
       "Name: Unit price, dtype: float64"
      ]
     },
     "execution_count": 9,
     "metadata": {},
     "output_type": "execute_result"
    }
   ],
   "source": [
    "df.groupby(\"Product line\")[\"Unit price\"].mean()"
   ]
  },
  {
   "cell_type": "markdown",
   "id": "677ac891",
   "metadata": {
    "ExecuteTime": {
     "end_time": "2021-10-12T18:19:46.908444Z",
     "start_time": "2021-10-12T18:19:46.900526Z"
    }
   },
   "source": [
    "8.Виводимо з якого інвойсу (рядок в цих даних) магазин отримав найбільший прибуток (`gross income`)? З найбільшим прибутком магазину.<br>\n",
    "We deduce from which invoice (line in this data) the store received the largest profit (`gross income')? With the largest profit of the store."
   ]
  },
  {
   "cell_type": "code",
   "execution_count": 33,
   "id": "84539697",
   "metadata": {
    "ExecuteTime": {
     "end_time": "2023-11-13T23:46:09.088147Z",
     "start_time": "2023-11-13T23:46:09.076015Z"
    }
   },
   "outputs": [
    {
     "data": {
      "text/plain": [
       "Invoice ID                         860-79-0874\n",
       "Branch                                       C\n",
       "City                                 Naypyitaw\n",
       "Customer type                           Member\n",
       "Gender                                  Female\n",
       "Product line               Fashion accessories\n",
       "Unit price                                99.3\n",
       "Quantity                                    10\n",
       "Tax 5%                                   49.65\n",
       "Total                                  1042.65\n",
       "Date                                 2/15/2019\n",
       "Time                                     14:53\n",
       "Payment                            Credit card\n",
       "cogs                                     993.0\n",
       "gross margin percentage               4.761905\n",
       "gross income                             49.65\n",
       "Rating                                     6.6\n",
       "Name: 350, dtype: object"
      ]
     },
     "execution_count": 33,
     "metadata": {},
     "output_type": "execute_result"
    }
   ],
   "source": [
    "df[\"gross income\"].idxmax()\n",
    "df.loc[350]"
   ]
  },
  {
   "cell_type": "markdown",
   "id": "28638363",
   "metadata": {},
   "source": [
    "9.Виводимо найприбутковіший філіал магазину ('Branch'). Який має сумарний прибуток та місто де він знайходиться? <br>\n",
    " We display the most profitable branch of the store ('Branch'). What is the total profit and the city where it is located"
   ]
  },
  {
   "cell_type": "code",
   "execution_count": 96,
   "id": "a9fe1b12",
   "metadata": {
    "ExecuteTime": {
     "end_time": "2023-11-14T12:13:52.527393Z",
     "start_time": "2023-11-14T12:13:52.507907Z"
    }
   },
   "outputs": [
    {
     "name": "stdout",
     "output_type": "stream",
     "text": [
      "Філіал C є найприбутковішим. Цей філіал знаходиться в місті Naypyitaw.\n"
     ]
    }
   ],
   "source": [
    "new = df.groupby(['Branch', 'City']).agg({'gross income':'sum'}).idxmax()\n",
    "print(f\"Філіал {new.values[0][0]} є найприбутковішим. Цей філіал знаходиться в місті {new.values[0][1]}.\")\n",
    "print(f\"Branch {new.values[0][0]} is the most profitable. This branch is located in the city of {new.values[0][1]}.\")"
   ]
  },
  {
   "cell_type": "markdown",
   "id": "cdcab0d9",
   "metadata": {},
   "source": [
    "10.Перевіряємо програмно, чи відрізняється маржа ('gross margin percentage') для різних відвідувань (інвойсів) в магазині.<br>\n",
    "We check programmatically whether the margin ('gross margin percentage') differs for different visits (invoices) in the store."
   ]
  },
  {
   "cell_type": "code",
   "execution_count": 15,
   "id": "779eee90",
   "metadata": {
    "ExecuteTime": {
     "end_time": "2023-11-14T22:56:16.309464Z",
     "start_time": "2023-11-14T22:56:16.296934Z"
    }
   },
   "outputs": [
    {
     "name": "stdout",
     "output_type": "stream",
     "text": [
      "У всіх всіх відвідувань однакова маржа\n"
     ]
    }
   ],
   "source": [
    "unique_margin_count = df.groupby(\"Invoice ID\")[\"gross margin percentage\"].nunique()\n",
    "if (unique_margin_count == 1).all:\n",
    "    print(\"У всіх всіх відвідувань однакова маржа\")\n",
    "else:\n",
    "    print(\"Маржа відрізняється для різних відвідувань\")\n",
    "    \n",
    "if (unique_margin_count == 1).all:\n",
    "    print(\"All visits have the same margin\")\n",
    "else:\n",
    "    print(\"The margin is different for different visits\")"
   ]
  },
  {
   "cell_type": "markdown",
   "id": "6dec795f",
   "metadata": {},
   "source": [
    "11.Виводимо філіал магазину ('Branch')з найбільшим відвідуванням (інвойсів) із покупкою електронних аксесуарів ('Electronic accessories')? Electronic accessories - це одна з продуктових ліній. <br>\n",
    " Are we taking out the branch of the store ('Branch') with the most visits (invoices) with the purchase of electronic accessories ('Electronic accessories')? Electronic accessories is one of the product lines."
   ]
  },
  {
   "cell_type": "code",
   "execution_count": 10,
   "id": "cadbd0d1",
   "metadata": {
    "ExecuteTime": {
     "end_time": "2023-11-15T08:23:33.168091Z",
     "start_time": "2023-11-15T08:23:33.120902Z"
    }
   },
   "outputs": [
    {
     "data": {
      "text/html": [
       "<div>\n",
       "<style scoped>\n",
       "    .dataframe tbody tr th:only-of-type {\n",
       "        vertical-align: middle;\n",
       "    }\n",
       "\n",
       "    .dataframe tbody tr th {\n",
       "        vertical-align: top;\n",
       "    }\n",
       "\n",
       "    .dataframe thead th {\n",
       "        text-align: right;\n",
       "    }\n",
       "</style>\n",
       "<table border=\"1\" class=\"dataframe\">\n",
       "  <thead>\n",
       "    <tr style=\"text-align: right;\">\n",
       "      <th>Product line</th>\n",
       "      <th>Electronic accessories</th>\n",
       "      <th>Fashion accessories</th>\n",
       "      <th>Food and beverages</th>\n",
       "      <th>Health and beauty</th>\n",
       "      <th>Home and lifestyle</th>\n",
       "      <th>Sports and travel</th>\n",
       "    </tr>\n",
       "    <tr>\n",
       "      <th>Branch</th>\n",
       "      <th></th>\n",
       "      <th></th>\n",
       "      <th></th>\n",
       "      <th></th>\n",
       "      <th></th>\n",
       "      <th></th>\n",
       "    </tr>\n",
       "  </thead>\n",
       "  <tbody>\n",
       "    <tr>\n",
       "      <th>A</th>\n",
       "      <td>60</td>\n",
       "      <td>51</td>\n",
       "      <td>58</td>\n",
       "      <td>47</td>\n",
       "      <td>65</td>\n",
       "      <td>59</td>\n",
       "    </tr>\n",
       "    <tr>\n",
       "      <th>B</th>\n",
       "      <td>55</td>\n",
       "      <td>62</td>\n",
       "      <td>50</td>\n",
       "      <td>53</td>\n",
       "      <td>50</td>\n",
       "      <td>62</td>\n",
       "    </tr>\n",
       "    <tr>\n",
       "      <th>C</th>\n",
       "      <td>55</td>\n",
       "      <td>65</td>\n",
       "      <td>66</td>\n",
       "      <td>52</td>\n",
       "      <td>45</td>\n",
       "      <td>45</td>\n",
       "    </tr>\n",
       "  </tbody>\n",
       "</table>\n",
       "</div>"
      ],
      "text/plain": [
       "Product line  Electronic accessories  Fashion accessories  Food and beverages  \\\n",
       "Branch                                                                          \n",
       "A                                 60                   51                  58   \n",
       "B                                 55                   62                  50   \n",
       "C                                 55                   65                  66   \n",
       "\n",
       "Product line  Health and beauty  Home and lifestyle  Sports and travel  \n",
       "Branch                                                                  \n",
       "A                            47                  65                 59  \n",
       "B                            53                  50                 62  \n",
       "C                            52                  45                 45  "
      ]
     },
     "execution_count": 10,
     "metadata": {},
     "output_type": "execute_result"
    }
   ],
   "source": [
    "count_invoice = df.pivot_table(index = \"Branch\", columns = \"Product line\", values = \"Invoice ID\", aggfunc = \"count\")\n",
    "count_invoice"
   ]
  },
  {
   "cell_type": "markdown",
   "id": "acc43aab",
   "metadata": {},
   "source": [
    "12.Виводимо кількість відвідувань (інвойсів) погодинно, та коли в магазині роблять найбільше відвідувань (тут ми розуміємо одне відвідування як один інвойс).<br>\n",
    "We display the number of visits (invoices) hourly, and when the store has the most visits (here we understand one visit as one invoice)"
   ]
  },
  {
   "cell_type": "code",
   "execution_count": 37,
   "id": "ed726130",
   "metadata": {
    "ExecuteTime": {
     "end_time": "2023-11-15T09:42:23.834778Z",
     "start_time": "2023-11-15T09:42:23.815212Z"
    }
   },
   "outputs": [
    {
     "name": "stdout",
     "output_type": "stream",
     "text": [
      "0    13\n",
      "1    10\n",
      "2    13\n",
      "3    20\n",
      "4    10\n",
      "Name: Hours, dtype: int32\n",
      "Hours\n",
      "10    101\n",
      "11     90\n",
      "12     89\n",
      "13    103\n",
      "14     83\n",
      "15    102\n",
      "16     77\n",
      "17     74\n",
      "18     93\n",
      "19    113\n",
      "20     75\n",
      "Name: Invoice ID, dtype: int64\n"
     ]
    }
   ],
   "source": [
    "time_split = df['Time'].str.split(':', expand=True)\n",
    "df['Hours'] = time_split[0].astype(int)\n",
    "print(df[\"Hours\"].head())\n",
    "print(df.groupby(\"Hours\")[\"Invoice ID\"].count())"
   ]
  },
  {
   "cell_type": "markdown",
   "id": "6863c902",
   "metadata": {},
   "source": [
    "Висновок: частіше маємо дохід зранку, в обідній час між роботою та після її.<br>\n",
    "Conclusion: more often we have income in the morning, at lunch time between work and after it."
   ]
  },
  {
   "cell_type": "markdown",
   "id": "d005a2b8",
   "metadata": {
    "ExecuteTime": {
     "end_time": "2022-11-01T17:56:02.981755Z",
     "start_time": "2022-11-01T17:56:02.977086Z"
    }
   },
   "source": [
    "13. Виводимо найменш прибудтковий філіал магазинів.<br>\n",
    " We remove the least profitable store branch."
   ]
  },
  {
   "cell_type": "code",
   "execution_count": 49,
   "id": "7951654f",
   "metadata": {
    "ExecuteTime": {
     "end_time": "2023-11-15T10:27:52.130984Z",
     "start_time": "2023-11-15T10:27:52.115736Z"
    }
   },
   "outputs": [
    {
     "name": "stdout",
     "output_type": "stream",
     "text": [
      "Філіал B є найменш прибутковим . Цей філіал знаходиться в місті Mandalay.\n"
     ]
    }
   ],
   "source": [
    "result= df.groupby(['Branch', 'City']).agg({'gross income':'sum'}).idxmin()\n",
    "print(f\"Філіал {result.values[0][0]} є найменш прибутковим . Цей філіал знаходиться в місті {result.values[0][1]}.\")\n",
    "print(f\"The branch {result.values[0][0]} is the least profitable. This branch is located in the city {result.values[0][1]}.\")"
   ]
  },
  {
   "cell_type": "markdown",
   "id": "c3aed4ce",
   "metadata": {},
   "source": [
    "14. Бачимо найбільші продажі<br>\n",
    "We see the biggest sales"
   ]
  },
  {
   "cell_type": "code",
   "execution_count": 50,
   "id": "53c32205",
   "metadata": {
    "ExecuteTime": {
     "end_time": "2023-11-15T10:53:06.015628Z",
     "start_time": "2023-11-15T10:53:05.875136Z"
    }
   },
   "outputs": [
    {
     "data": {
      "text/plain": [
       "Product line\n",
       "Electronic accessories    971\n",
       "Food and beverages        952\n",
       "Sports and travel         920\n",
       "Home and lifestyle        911\n",
       "Fashion accessories       902\n",
       "Name: Quantity, dtype: int64"
      ]
     },
     "execution_count": 50,
     "metadata": {},
     "output_type": "execute_result"
    }
   ],
   "source": [
    "salse_by_product = df.groupby(\"Product line\")[\"Quantity\"].sum().sort_values(ascending = False).head()\n",
    "salse_by_product"
   ]
  },
  {
   "cell_type": "markdown",
   "id": "2d00d2d3",
   "metadata": {},
   "source": [
    "15. Бачимо найбільшу прибутковість<br>\n",
    "We see the highest profitability"
   ]
  },
  {
   "cell_type": "code",
   "execution_count": 52,
   "id": "a9bf009b",
   "metadata": {
    "ExecuteTime": {
     "end_time": "2023-11-15T10:55:05.416944Z",
     "start_time": "2023-11-15T10:55:05.384133Z"
    }
   },
   "outputs": [
    {
     "data": {
      "text/plain": [
       "Product line\n",
       "Food and beverages        2673.5640\n",
       "Sports and travel         2624.8965\n",
       "Electronic accessories    2587.5015\n",
       "Fashion accessories       2585.9950\n",
       "Home and lifestyle        2564.8530\n",
       "Name: gross income, dtype: float64"
      ]
     },
     "execution_count": 52,
     "metadata": {},
     "output_type": "execute_result"
    }
   ],
   "source": [
    "profit_by_product = df.groupby(\"Product line\")[\"gross income\"].sum().sort_values(ascending = False).head()\n",
    "profit_by_product "
   ]
  },
  {
   "cell_type": "markdown",
   "id": "a6549789",
   "metadata": {},
   "source": [
    "16. Бачимо рейтинг задоволеності продуктом<br>\n",
    "We see the rating of satisfaction with the product"
   ]
  },
  {
   "cell_type": "code",
   "execution_count": 57,
   "id": "6f1fc82b",
   "metadata": {
    "ExecuteTime": {
     "end_time": "2023-11-15T11:16:27.138382Z",
     "start_time": "2023-11-15T11:16:27.120928Z"
    }
   },
   "outputs": [
    {
     "data": {
      "text/plain": [
       "Product line\n",
       "Food and beverages        7.113218\n",
       "Fashion accessories       7.029213\n",
       "Health and beauty         7.003289\n",
       "Electronic accessories    6.924706\n",
       "Sports and travel         6.916265\n",
       "Name: Rating, dtype: float64"
      ]
     },
     "execution_count": 57,
     "metadata": {},
     "output_type": "execute_result"
    }
   ],
   "source": [
    "avg_rating_by_product = df.groupby(\"Product line\")[\"Rating\"].mean().sort_values(ascending = False).head()\n",
    "avg_rating_by_product"
   ]
  },
  {
   "cell_type": "markdown",
   "id": "ac274739",
   "metadata": {},
   "source": [
    "17. Бачимо середню суму продажів по дням тижня<br>\n",
    "We see the average amount of sales by day of the week"
   ]
  },
  {
   "cell_type": "code",
   "execution_count": 75,
   "id": "01e3c0e0",
   "metadata": {
    "ExecuteTime": {
     "end_time": "2023-11-15T11:48:10.948395Z",
     "start_time": "2023-11-15T11:48:10.923382Z"
    }
   },
   "outputs": [
    {
     "data": {
      "text/plain": [
       "Day of week\n",
       "Saturday     342.200058\n",
       "Sunday       334.269868\n",
       "Thursday     328.617739\n",
       "Tuesday      325.836997\n",
       "Friday       316.016838\n",
       "Wednesday    305.812133\n",
       "Monday       303.192624\n",
       "Name: Total, dtype: float64"
      ]
     },
     "execution_count": 75,
     "metadata": {},
     "output_type": "execute_result"
    }
   ],
   "source": [
    "df[\"Date\"] = pd.to_datetime(df[\"Date\"])\n",
    "df[\"Day of week\"] = df[\"Date\"].dt.day_name()\n",
    "sales_by_day = df.groupby(\"Day of week\")[\"Total\"].mean().sort_values(ascending = False)\n",
    "sales_by_day"
   ]
  },
  {
   "cell_type": "markdown",
   "id": "6c1373e7",
   "metadata": {},
   "source": [
    "18. Бачимо суму продажів місяця<br>\n",
    "We see the amount of sales for the month"
   ]
  },
  {
   "cell_type": "code",
   "execution_count": 82,
   "id": "c8cb00a1",
   "metadata": {
    "ExecuteTime": {
     "end_time": "2023-11-15T11:57:34.697950Z",
     "start_time": "2023-11-15T11:57:34.676715Z"
    }
   },
   "outputs": [
    {
     "data": {
      "text/plain": [
       "Month of year\n",
       "January     116291.868\n",
       "March       109455.507\n",
       "February     97219.374\n",
       "Name: Total, dtype: float64"
      ]
     },
     "execution_count": 82,
     "metadata": {},
     "output_type": "execute_result"
    }
   ],
   "source": [
    "df[\"Month of year\"] = df[\"Date\"].dt.month_name()\n",
    "sales_by_month = df.groupby(\"Month of year\")[\"Total\"].sum().sort_values(ascending = False)\n",
    "sales_by_month"
   ]
  },
  {
   "cell_type": "markdown",
   "id": "278650fe",
   "metadata": {},
   "source": [
    "19. Різниця поупок жінок та чоловіків<br>\n",
    "Difference between women's and men's buttocks"
   ]
  },
  {
   "cell_type": "code",
   "execution_count": 97,
   "id": "3c92476b",
   "metadata": {
    "ExecuteTime": {
     "end_time": "2023-11-15T12:18:20.399659Z",
     "start_time": "2023-11-15T12:18:20.379624Z"
    }
   },
   "outputs": [
    {
     "data": {
      "text/html": [
       "<div>\n",
       "<style scoped>\n",
       "    .dataframe tbody tr th:only-of-type {\n",
       "        vertical-align: middle;\n",
       "    }\n",
       "\n",
       "    .dataframe tbody tr th {\n",
       "        vertical-align: top;\n",
       "    }\n",
       "\n",
       "    .dataframe thead th {\n",
       "        text-align: right;\n",
       "    }\n",
       "</style>\n",
       "<table border=\"1\" class=\"dataframe\">\n",
       "  <thead>\n",
       "    <tr style=\"text-align: right;\">\n",
       "      <th>Gender</th>\n",
       "      <th>Female</th>\n",
       "      <th>Male</th>\n",
       "    </tr>\n",
       "    <tr>\n",
       "      <th>Product line</th>\n",
       "      <th></th>\n",
       "      <th></th>\n",
       "    </tr>\n",
       "  </thead>\n",
       "  <tbody>\n",
       "    <tr>\n",
       "      <th>Electronic accessories</th>\n",
       "      <td>84</td>\n",
       "      <td>86</td>\n",
       "    </tr>\n",
       "    <tr>\n",
       "      <th>Fashion accessories</th>\n",
       "      <td>96</td>\n",
       "      <td>82</td>\n",
       "    </tr>\n",
       "    <tr>\n",
       "      <th>Food and beverages</th>\n",
       "      <td>90</td>\n",
       "      <td>84</td>\n",
       "    </tr>\n",
       "    <tr>\n",
       "      <th>Health and beauty</th>\n",
       "      <td>64</td>\n",
       "      <td>88</td>\n",
       "    </tr>\n",
       "    <tr>\n",
       "      <th>Home and lifestyle</th>\n",
       "      <td>79</td>\n",
       "      <td>81</td>\n",
       "    </tr>\n",
       "    <tr>\n",
       "      <th>Sports and travel</th>\n",
       "      <td>88</td>\n",
       "      <td>78</td>\n",
       "    </tr>\n",
       "  </tbody>\n",
       "</table>\n",
       "</div>"
      ],
      "text/plain": [
       "Gender                  Female  Male\n",
       "Product line                        \n",
       "Electronic accessories      84    86\n",
       "Fashion accessories         96    82\n",
       "Food and beverages          90    84\n",
       "Health and beauty           64    88\n",
       "Home and lifestyle          79    81\n",
       "Sports and travel           88    78"
      ]
     },
     "execution_count": 97,
     "metadata": {},
     "output_type": "execute_result"
    }
   ],
   "source": [
    "purchase_comparison = df.groupby(['Product line', 'Gender']).size().unstack()\n",
    "purchase_comparison"
   ]
  },
  {
   "cell_type": "code",
   "execution_count": null,
   "id": "e4aff089",
   "metadata": {},
   "outputs": [],
   "source": []
  }
 ],
 "metadata": {
  "kernelspec": {
   "display_name": "Python 3 (ipykernel)",
   "language": "python",
   "name": "python3"
  },
  "language_info": {
   "codemirror_mode": {
    "name": "ipython",
    "version": 3
   },
   "file_extension": ".py",
   "mimetype": "text/x-python",
   "name": "python",
   "nbconvert_exporter": "python",
   "pygments_lexer": "ipython3",
   "version": "3.11.5"
  },
  "toc": {
   "base_numbering": 1,
   "nav_menu": {},
   "number_sections": true,
   "sideBar": true,
   "skip_h1_title": false,
   "title_cell": "Table of Contents",
   "title_sidebar": "Contents",
   "toc_cell": false,
   "toc_position": {},
   "toc_section_display": true,
   "toc_window_display": false
  },
  "vscode": {
   "interpreter": {
    "hash": "a6511e6b41b26ba86cca7483749cf4dd15bf137a2672e550741a656e19bba82e"
   }
  }
 },
 "nbformat": 4,
 "nbformat_minor": 5
}
