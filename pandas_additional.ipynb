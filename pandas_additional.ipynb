  {
   "cell_type": "markdown",
   "id": "dce4f0a0",
   "metadata": {},
   "source": [
    "1. Зчитайте дані з файлу `2022_dec_raw.csv`. Увага! Тут необхідно використати аргумент `pd.read_csv` `sep=';'`, бо розділювач в даних - крапка з комою."
   ]
  },
  {
   "cell_type": "code",
   "execution_count": 1,
   "id": "a238c418",
   "metadata": {
    "ExecuteTime": {
     "end_time": "2024-01-07T18:21:38.595827Z",
     "start_time": "2024-01-07T18:21:35.920683Z"
    }
   },
   "outputs": [],
   "source": [
    "import pandas as pd\n",
    "df = pd.read_csv(\"2022_dec_raw.csv\", sep=';')"
   ]
  },
  {
   "cell_type": "markdown",
   "id": "7cf480dc",
   "metadata": {},
   "source": [
    "2. Які колонки мають дані?"
   ]
  },
  {
   "cell_type": "code",
   "execution_count": 2,
   "id": "3768c4d4",
   "metadata": {
    "ExecuteTime": {
     "end_time": "2024-01-07T18:21:39.758714Z",
     "start_time": "2024-01-07T18:21:39.736031Z"
    }
   },
   "outputs": [
    {
     "data": {
      "text/plain": [
       "Index(['Timestamp', 'Ви працюєте зараз в ІТ?', 'Де ви зараз живете? ',\n",
       "       'В якій області ви зараз живете?',\n",
       "       'Зарплата у $$$ за місяць, лише ставка після сплати податків',\n",
       "       'Ваша стать', 'Ваш вік', 'Яка у вас освіта?',\n",
       "       'Чи є у вас науковий ступінь? ', 'Знання англійської мови',\n",
       "       'Оберіть вашу посаду', 'Ваш тайтл', 'Ваша спеціалізація',\n",
       "       'Вкажіть вашу спеціалізацію', 'Оберіть вашу спеціалізацію',\n",
       "       'Ваша посада', 'Оберіть вашу посаду2', 'Ваша посада3', 'Ваша посада4',\n",
       "       'Ваша посада5', 'Ваша посада6', 'Ваша посада7',\n",
       "       'Чи використовуєте ви у своїй роботі мови програмування (одну чи декілька)?',\n",
       "       'Основна мова програмування', 'Вкажіть вашу основну спеціалізацію',\n",
       "       'В якій сфері працюєте?', 'Тип компанії',\n",
       "       'Загальний стаж роботи за спеціальністю'],\n",
       "      dtype='object')"
      ]
     },
     "execution_count": 2,
     "metadata": {},
     "output_type": "execute_result"
    }
   ],
   "source": [
    "df.columns"
   ]
  },
  {
   "cell_type": "markdown",
   "id": "6d324476",
   "metadata": {},
   "source": [
    "3. Скільки рядків та колонок мають дані? Скільки пропущених значень має кожна з колонок?"
   ]
  },
  {
   "cell_type": "code",
   "execution_count": 3,
   "id": "9d07771f",
   "metadata": {
    "ExecuteTime": {
     "end_time": "2024-01-07T18:21:40.817843Z",
     "start_time": "2024-01-07T18:21:40.803735Z"
    }
   },
   "outputs": [
    {
     "data": {
      "text/plain": [
       "(13315, 28)"
      ]
     },
     "execution_count": 3,
     "metadata": {},
     "output_type": "execute_result"
    }
   ],
   "source": [
    "df.shape"
   ]
  },
  {
   "cell_type": "code",
   "execution_count": 4,
   "id": "4abb52fa",
   "metadata": {
    "ExecuteTime": {
     "end_time": "2024-01-07T18:21:41.235871Z",
     "start_time": "2024-01-07T18:21:41.186863Z"
    }
   },
   "outputs": [
    {
     "data": {
      "text/plain": [
       "Timestamp                                                                         0\n",
       "Ви працюєте зараз в ІТ?                                                           0\n",
       "Де ви зараз живете?                                                               0\n",
       "В якій області ви зараз живете?                                                1777\n",
       "Зарплата у $$$ за місяць, лише ставка після сплати податків                      27\n",
       "Ваша стать                                                                        0\n",
       "Ваш вік                                                                           0\n",
       "Яка у вас освіта?                                                                 0\n",
       "Чи є у вас науковий ступінь?                                                    111\n",
       "Знання англійської мови                                                           0\n",
       "Оберіть вашу посаду                                                               0\n",
       "Ваш тайтл                                                                         0\n",
       "Ваша спеціалізація                                                            13156\n",
       "Вкажіть вашу спеціалізацію                                                    10951\n",
       "Оберіть вашу спеціалізацію                                                    12829\n",
       "Ваша посада                                                                   13010\n",
       "Оберіть вашу посаду2                                                          12755\n",
       "Ваша посада3                                                                  12494\n",
       "Ваша посада4                                                                  12830\n",
       "Ваша посада5                                                                  13027\n",
       "Ваша посада6                                                                  12962\n",
       "Ваша посада7                                                                  13199\n",
       "Чи використовуєте ви у своїй роботі мови програмування (одну чи декілька)?     8441\n",
       "Основна мова програмування                                                     4255\n",
       "Вкажіть вашу основну спеціалізацію                                             4256\n",
       "В якій сфері працюєте?                                                            0\n",
       "Тип компанії                                                                      0\n",
       "Загальний стаж роботи за спеціальністю                                            0\n",
       "dtype: int64"
      ]
     },
     "execution_count": 4,
     "metadata": {},
     "output_type": "execute_result"
    }
   ],
   "source": [
    "df.isnull().sum()"
   ]
  },
  {
   "cell_type": "markdown",
   "id": "854846c5",
   "metadata": {
    "ExecuteTime": {
     "end_time": "2023-07-06T09:12:21.537631Z",
     "start_time": "2023-07-06T09:12:21.481059Z"
    }
   },
   "source": [
    "4. Які колонки мають всі значення заповненими (не мають дожного None значення)? Виведіть програмно список цих колонок."
   ]
  },
  {
   "cell_type": "code",
   "execution_count": 5,
   "id": "5de7ccb7",
   "metadata": {
    "ExecuteTime": {
     "end_time": "2024-01-07T18:21:42.062325Z",
     "start_time": "2024-01-07T18:21:42.011806Z"
    }
   },
   "outputs": [
    {
     "data": {
      "text/plain": [
       "Timestamp                                                                      True\n",
       "Ви працюєте зараз в ІТ?                                                        True\n",
       "Де ви зараз живете?                                                            True\n",
       "В якій області ви зараз живете?                                               False\n",
       "Зарплата у $$$ за місяць, лише ставка після сплати податків                   False\n",
       "Ваша стать                                                                     True\n",
       "Ваш вік                                                                        True\n",
       "Яка у вас освіта?                                                              True\n",
       "Чи є у вас науковий ступінь?                                                  False\n",
       "Знання англійської мови                                                        True\n",
       "Оберіть вашу посаду                                                            True\n",
       "Ваш тайтл                                                                      True\n",
       "Ваша спеціалізація                                                            False\n",
       "Вкажіть вашу спеціалізацію                                                    False\n",
       "Оберіть вашу спеціалізацію                                                    False\n",
       "Ваша посада                                                                   False\n",
       "Оберіть вашу посаду2                                                          False\n",
       "Ваша посада3                                                                  False\n",
       "Ваша посада4                                                                  False\n",
       "Ваша посада5                                                                  False\n",
       "Ваша посада6                                                                  False\n",
       "Ваша посада7                                                                  False\n",
       "Чи використовуєте ви у своїй роботі мови програмування (одну чи декілька)?    False\n",
       "Основна мова програмування                                                    False\n",
       "Вкажіть вашу основну спеціалізацію                                            False\n",
       "В якій сфері працюєте?                                                         True\n",
       "Тип компанії                                                                   True\n",
       "Загальний стаж роботи за спеціальністю                                         True\n",
       "dtype: bool"
      ]
     },
     "execution_count": 5,
     "metadata": {},
     "output_type": "execute_result"
    }
   ],
   "source": [
    "df.notnull().all()"
   ]
  },
  {
   "cell_type": "markdown",
   "id": "2e6a2867",
   "metadata": {
    "ExecuteTime": {
     "end_time": "2023-07-06T10:56:38.046761Z",
     "start_time": "2023-07-06T10:56:38.038875Z"
    }
   },
   "source": [
    "5. Який тип мають колонки в наборі даних? Які з колонок типу object логічно на ваш погляд перетворити на числові колонки?"
   ]
  },
  {
   "cell_type": "code",
   "execution_count": 6,
   "id": "3915a5f8",
   "metadata": {
    "ExecuteTime": {
     "end_time": "2024-01-07T18:21:43.456550Z",
     "start_time": "2024-01-07T18:21:43.437344Z"
    }
   },
   "outputs": [
    {
     "data": {
      "text/plain": [
       "Timestamp                                                                     object\n",
       "Ви працюєте зараз в ІТ?                                                       object\n",
       "Де ви зараз живете?                                                           object\n",
       "В якій області ви зараз живете?                                               object\n",
       "Зарплата у $$$ за місяць, лише ставка після сплати податків                   object\n",
       "Ваша стать                                                                    object\n",
       "Ваш вік                                                                       object\n",
       "Яка у вас освіта?                                                             object\n",
       "Чи є у вас науковий ступінь?                                                  object\n",
       "Знання англійської мови                                                       object\n",
       "Оберіть вашу посаду                                                           object\n",
       "Ваш тайтл                                                                     object\n",
       "Ваша спеціалізація                                                            object\n",
       "Вкажіть вашу спеціалізацію                                                    object\n",
       "Оберіть вашу спеціалізацію                                                    object\n",
       "Ваша посада                                                                   object\n",
       "Оберіть вашу посаду2                                                          object\n",
       "Ваша посада3                                                                  object\n",
       "Ваша посада4                                                                  object\n",
       "Ваша посада5                                                                  object\n",
       "Ваша посада6                                                                  object\n",
       "Ваша посада7                                                                  object\n",
       "Чи використовуєте ви у своїй роботі мови програмування (одну чи декілька)?    object\n",
       "Основна мова програмування                                                    object\n",
       "Вкажіть вашу основну спеціалізацію                                            object\n",
       "В якій сфері працюєте?                                                        object\n",
       "Тип компанії                                                                  object\n",
       "Загальний стаж роботи за спеціальністю                                        object\n",
       "dtype: object"
      ]
     },
     "execution_count": 6,
     "metadata": {},
     "output_type": "execute_result"
    }
   ],
   "source": [
    "df.dtypes\n",
    "# На мій погляд гарно було б переробити Timestamp,\n",
    "# Зарплата у $$$ за місяць, лише ставка після сплати податків,\n",
    "# Ваш вік,\n",
    "# Загальний стаж роботи за спеціальністю"
   ]
  },
  {
   "cell_type": "code",
   "execution_count": 7,
   "id": "13e18754",
   "metadata": {
    "ExecuteTime": {
     "end_time": "2024-01-07T18:21:43.914841Z",
     "start_time": "2024-01-07T18:21:43.892165Z"
    }
   },
   "outputs": [
    {
     "data": {
      "text/plain": [
       "0        4000\n",
       "1         NaN\n",
       "2        2500\n",
       "3         500\n",
       "4        2800\n",
       "         ... \n",
       "13310    4000\n",
       "13311    3500\n",
       "13312    1930\n",
       "13313    4500\n",
       "13314    4200\n",
       "Name: Зарплата у $$$ за місяць, лише ставка після сплати податків, Length: 13315, dtype: object"
      ]
     },
     "execution_count": 7,
     "metadata": {},
     "output_type": "execute_result"
    }
   ],
   "source": [
    "df[\"Зарплата у $$$ за місяць, лише ставка після сплати податків\"]"
   ]
  },
  {
   "cell_type": "markdown",
   "id": "3da64e75",
   "metadata": {},
   "source": [
    "6. Трансформуйте колонки 'Ваш вік', 'Зарплата у $$$ за місяць, лише ставка після сплати податків' у тип даних float. УВАГА! Перед трансформацією подивіться, які дані містять ці колонки. Аби успішно трансформувати тип даних, треба спочатку привести рядки до того виду, який буде підходити, аби потім рядок зробити типом float."
   ]
  },
  {
   "cell_type": "code",
   "execution_count": 8,
   "id": "6f0c682d",
   "metadata": {
    "ExecuteTime": {
     "end_time": "2024-01-07T18:21:44.992789Z",
     "start_time": "2024-01-07T18:21:44.883154Z"
    }
   },
   "outputs": [],
   "source": [
    "df[\"Ваш вік\"] = pd.to_numeric(df[\"Ваш вік\"], errors =\"coerce\")\n",
    "df[\"Зарплата у $$$ за місяць, лише ставка після сплати податків\"] =pd.to_numeric(df[\"Зарплата у $$$ за місяць, лише ставка після сплати податків\"], errors= \"coerce\")"
   ]
  },
  {
   "cell_type": "code",
   "execution_count": 9,
   "id": "7c3e591b",
   "metadata": {
    "ExecuteTime": {
     "end_time": "2024-01-07T18:21:45.428636Z",
     "start_time": "2024-01-07T18:21:45.409751Z"
    }
   },
   "outputs": [
    {
     "data": {
      "text/plain": [
       "Timestamp                                                                      object\n",
       "Ви працюєте зараз в ІТ?                                                        object\n",
       "Де ви зараз живете?                                                            object\n",
       "В якій області ви зараз живете?                                                object\n",
       "Зарплата у $$$ за місяць, лише ставка після сплати податків                   float64\n",
       "Ваша стать                                                                     object\n",
       "Ваш вік                                                                       float64\n",
       "Яка у вас освіта?                                                              object\n",
       "Чи є у вас науковий ступінь?                                                   object\n",
       "Знання англійської мови                                                        object\n",
       "Оберіть вашу посаду                                                            object\n",
       "Ваш тайтл                                                                      object\n",
       "Ваша спеціалізація                                                             object\n",
       "Вкажіть вашу спеціалізацію                                                     object\n",
       "Оберіть вашу спеціалізацію                                                     object\n",
       "Ваша посада                                                                    object\n",
       "Оберіть вашу посаду2                                                           object\n",
       "Ваша посада3                                                                   object\n",
       "Ваша посада4                                                                   object\n",
       "Ваша посада5                                                                   object\n",
       "Ваша посада6                                                                   object\n",
       "Ваша посада7                                                                   object\n",
       "Чи використовуєте ви у своїй роботі мови програмування (одну чи декілька)?     object\n",
       "Основна мова програмування                                                     object\n",
       "Вкажіть вашу основну спеціалізацію                                             object\n",
       "В якій сфері працюєте?                                                         object\n",
       "Тип компанії                                                                   object\n",
       "Загальний стаж роботи за спеціальністю                                         object\n",
       "dtype: object"
      ]
     },
     "execution_count": 9,
     "metadata": {},
     "output_type": "execute_result"
    }
   ],
   "source": [
    "df.dtypes"
   ]
  },
  {
   "cell_type": "markdown",
   "id": "9c4181cb",
   "metadata": {
    "ExecuteTime": {
     "end_time": "2023-07-06T11:36:23.006200Z",
     "start_time": "2023-07-06T11:36:22.975108Z"
    }
   },
   "source": [
    "7. Це завдання з зірочкою! Нам треба транфсформувати колонку Timestamp у тип даних `datetime64[ns]`. Це не так просто як здається на першйий погляд :) Але це реальна ситуація, яка може трапитись при зборі даних в роботі аналітиком.\n",
    "Я запропоную один зі способів виконати завдання, але ви можете написати по-своєму. Головне - отримати колонку - потрібного типу. \n",
    "Пропоную наступний алгоритм дій:\n",
    "    1. Подивитись, які дані містяться в цій колонці. Виведіть перші і останні 5 записів. Чи однаковий формат цих даних? (спойлер: ні, бо інакше все було б просто :))\n",
    "    2. Нам треба враховуючи різний формат даних перетворити рядок у колонці `Timestamp` на тип `datetime64[ns]`. Як це зробити? Для перетворення рядка на `datetime64` пропоную скористатись `datetime.datetime.strptime`.\n",
    "    Для цього треба імпортувати бібліотеку `datetime`. Я пропоную написати функцію для обробки кожного окремого рядка, яка враховує довжину рядка і на основі цього застосовує різний формат даних дати.\n",
    "    Як прописувати формат даних можна переглянути [тут](https://www.w3schools.com/python/python_datetime.asp).\n",
    "    3. Коли функція для обробки кожного окремого рядка готова, застосуйте її для всіх даних з допомогою методу `apply`."
   ]
  },
  {
   "cell_type": "code",
   "execution_count": 10,
   "id": "c3bcbd33",
   "metadata": {
    "ExecuteTime": {
     "end_time": "2024-01-07T18:21:46.574737Z",
     "start_time": "2024-01-07T18:21:46.557207Z"
    }
   },
   "outputs": [
    {
     "data": {
      "text/plain": [
       "0        11.30.2022 10:26:37\n",
       "1        11.30.2022 10:26:39\n",
       "2        11.30.2022 10:26:58\n",
       "3        11.30.2022 10:27:31\n",
       "4        11.30.2022 10:27:34\n",
       "                ...         \n",
       "13310       01.09.2023 11:01\n",
       "13311       01.09.2023 11:14\n",
       "13312       01.09.2023 11:19\n",
       "13313       01.09.2023 11:28\n",
       "13314       01.09.2023 11:38\n",
       "Name: Timestamp, Length: 13315, dtype: object"
      ]
     },
     "execution_count": 10,
     "metadata": {},
     "output_type": "execute_result"
    }
   ],
   "source": [
    "df[\"Timestamp\"]"
   ]
  },
  {
   "cell_type": "code",
   "execution_count": 11,
   "id": "0c7f835a",
   "metadata": {
    "ExecuteTime": {
     "end_time": "2024-01-07T18:21:50.118403Z",
     "start_time": "2024-01-07T18:21:47.242503Z"
    }
   },
   "outputs": [
    {
     "data": {
      "text/plain": [
       "0       2022-11-30 10:26:37\n",
       "1       2022-11-30 10:26:39\n",
       "2       2022-11-30 10:26:58\n",
       "3       2022-11-30 10:27:31\n",
       "4       2022-11-30 10:27:34\n",
       "                ...        \n",
       "13310   2023-01-09 11:01:00\n",
       "13311   2023-01-09 11:14:00\n",
       "13312   2023-01-09 11:19:00\n",
       "13313   2023-01-09 11:28:00\n",
       "13314   2023-01-09 11:38:00\n",
       "Name: Timestamp, Length: 13315, dtype: datetime64[ns]"
      ]
     },
     "execution_count": 11,
     "metadata": {},
     "output_type": "execute_result"
    }
   ],
   "source": [
    "import datetime\n",
    "def convert_to_datetime(x):\n",
    "    if len(x) >16:\n",
    "        return pd.to_datetime(x, format=\"%m.%d.%Y %H:%M:%S\")\n",
    "    else:\n",
    "        return pd.to_datetime(x, format=\"%m.%d.%Y %H:%M\")\n",
    "\n",
    "df[\"Timestamp\"] = df[\"Timestamp\"].apply(convert_to_datetime)\n",
    "df[\"Timestamp\"]"
   ]
  },
  {
   "cell_type": "markdown",
   "id": "e60cd492",
   "metadata": {},
   "source": [
    "8. Для колонок типу даних object (які такими лишились після всіх наших трансформацій) виведіть кількість унікальних значень."
   ]
  },
  {
   "cell_type": "code",
   "execution_count": 12,
   "id": "c729c27d",
   "metadata": {
    "ExecuteTime": {
     "end_time": "2024-01-07T18:21:50.192192Z",
     "start_time": "2024-01-07T18:21:50.120003Z"
    }
   },
   "outputs": [
    {
     "name": "stdout",
     "output_type": "stream",
     "text": [
      "Ви працюєте зараз в ІТ?                                                          5\n",
      "Де ви зараз живете?                                                              2\n",
      "В якій області ви зараз живете?                                                 23\n",
      "Ваша стать                                                                       2\n",
      "Яка у вас освіта?                                                                5\n",
      "Чи є у вас науковий ступінь?                                                     3\n",
      "Знання англійської мови                                                          5\n",
      "Оберіть вашу посаду                                                             22\n",
      "Ваш тайтл                                                                       10\n",
      "Ваша спеціалізація                                                               8\n",
      "Вкажіть вашу спеціалізацію                                                       4\n",
      "Оберіть вашу спеціалізацію                                                      21\n",
      "Ваша посада                                                                     15\n",
      "Оберіть вашу посаду2                                                             7\n",
      "Ваша посада3                                                                     7\n",
      "Ваша посада4                                                                     5\n",
      "Ваша посада5                                                                     6\n",
      "Ваша посада6                                                                     2\n",
      "Ваша посада7                                                                     4\n",
      "Чи використовуєте ви у своїй роботі мови програмування (одну чи декілька)?       2\n",
      "Основна мова програмування                                                      33\n",
      "Вкажіть вашу основну спеціалізацію                                              12\n",
      "В якій сфері працюєте?                                                        1768\n",
      "Тип компанії                                                                     6\n",
      "Загальний стаж роботи за спеціальністю                                          19\n",
      "dtype: int64\n"
     ]
    }
   ],
   "source": [
    "object_columns = df.select_dtypes(include=['object'])\n",
    "unique_counts = object_columns.nunique()\n",
    "print(unique_counts)\n"
   ]
  },
  {
   "cell_type": "markdown",
   "id": "03500adf",
   "metadata": {},
   "source": [
    "9. Для колонок типу даних object виведіть топ 10 найбільш частих значень з кількістю рядків, в яких це значення зустрічається. Зробіть це для кожної колонки окремо. Наприклад, в циклі.  \n",
    "Що цікавого бачите? Які висновки можна зробити? Що особисто Вас вразило?"
   ]
  },
  {
   "cell_type": "code",
   "execution_count": 13,
   "id": "add43481",
   "metadata": {
    "ExecuteTime": {
     "end_time": "2024-01-07T18:21:51.935902Z",
     "start_time": "2024-01-07T18:21:51.868949Z"
    }
   },
   "outputs": [
    {
     "name": "stdout",
     "output_type": "stream",
     "text": [
      "Загальний стаж роботи за спеціальністю\n",
      "3 роки               1608\n",
      "4 роки               1447\n",
      "2 роки               1427\n",
      "5 років              1351\n",
      "1,5 року             1056\n",
      "6 років               982\n",
      "1 рік                 922\n",
      "7 років               791\n",
      "10 років              599\n",
      "15 і більше років     586\n",
      "Name: count, dtype: int64\n"
     ]
    }
   ],
   "source": [
    " for columns in object_columns.columns:\n",
    "        top_10 = df[columns].value_counts().head(10)\n",
    " print(top_10)\n",
    "# Поширений рівень стажу, рівень зростання або розвитку в періоді з 2-4 років, та скільки досвідчених фахівців "
   ]
  },
  {
   "cell_type": "markdown",
   "id": "35cf7d10",
   "metadata": {},
   "source": [
    "10. Виведіть медіанну (медіана - це значення, менше якого є рівно 50% вибірки і більше якого є теж рівно 50% вибірки)\n",
    "ЗП (Зарплата у $$$) для кожного рівня знання англійської. Які висновки можна зробити?"
   ]
  },
  {
   "cell_type": "code",
   "execution_count": 31,
   "id": "dd686bc1",
   "metadata": {
    "ExecuteTime": {
     "end_time": "2024-01-07T19:02:41.178073Z",
     "start_time": "2024-01-07T19:02:41.125297Z"
    }
   },
   "outputs": [
    {
     "data": {
      "text/plain": [
       "Знання англійської мови\n",
       "Advanced              3500.0\n",
       "Elementary            1155.0\n",
       "Intermediate          2125.0\n",
       "Pre-Intermediate      1408.0\n",
       "Upper-Intermediate    3300.0\n",
       "Name: Зарплата у $$$ за місяць, лише ставка після сплати податків, dtype: float64"
      ]
     },
     "execution_count": 31,
     "metadata": {},
     "output_type": "execute_result"
    }
   ],
   "source": [
    "df[\"result\"]= df.groupby(\"Знання англійської мови\")[\"Зарплата у $$$ за місяць, лише ставка після сплати податків\"].median()\n",
    "result\n",
    "# Що треба вчити анг мву щоб більше заробляти "
   ]
  },
  {
   "cell_type": "markdown",
   "id": "0992c456",
   "metadata": {
    "ExecuteTime": {
     "end_time": "2023-07-06T11:56:25.250162Z",
     "start_time": "2023-07-06T11:56:25.244477Z"
    }
   },
   "source": [
    "11. Є така штука як сортування значень категоріальної змінної. Нам це зараз стане в нагоді, адже рівні англійської можна посортувати. \n",
    "Давайте відсотруємо рівні англ. і тайтли. Просто запустіть код нижче і проаналізуйте, що він робить."
   ]
  },
  {
   "cell_type": "code",
   "execution_count": 29,
   "id": "daa45b42",
   "metadata": {
    "ExecuteTime": {
     "end_time": "2024-01-07T18:54:03.179689Z",
     "start_time": "2024-01-07T18:54:03.163939Z"
    }
   },
   "outputs": [],
   "source": [
    "df['Знання англійської мови'] = pd.Categorical(df['Знання англійської мови'], \n",
    "                      categories=['Elementary','Pre-Intermediate','Intermediate','Upper-Intermediate','Advanced'],\n",
    "                      ordered=True)\n",
    "\n",
    "df['Ваш тайтл'] = pd.Categorical(df['Ваш тайтл'], \n",
    "                      categories=['Intern/Trainee', 'Junior', 'Немає тайтлу', 'Middle', 'Senior', 'Tech Lead', 'Team Lead', 'Architect', 'Head', 'Manager'],\n",
    "                      ordered=True)"
   ]
  },
  {
   "cell_type": "markdown",
   "id": "d055e149",
   "metadata": {
    "ExecuteTime": {
     "end_time": "2023-07-06T11:52:57.539571Z",
     "start_time": "2023-07-06T11:52:57.535277Z"
    }
   },
   "source": [
    "12. Зробіть зводну таблицю, де стовпці - це 'Ваш тайтл', рядки - 'Знання англійської мови', а значення - медіанна ЗП. Які висновки можна зробити?\n",
    "Тут ще для зручності можна зробити градієнтне забарвлення і відформатувати значення для легшого перегляду."
   ]
  },
  {
   "cell_type": "code",
   "execution_count": 35,
   "id": "6b14039c",
   "metadata": {
    "ExecuteTime": {
     "end_time": "2024-01-07T19:06:29.147608Z",
     "start_time": "2024-01-07T19:06:29.142048Z"
    }
   },
   "outputs": [],
   "source": [
    "import matplotlib.pyplot as plt\n"
   ]
  },
  {
   "cell_type": "code",
   "execution_count": 72,
   "id": "07f4702e",
   "metadata": {
    "ExecuteTime": {
     "end_time": "2024-01-07T20:05:46.150854Z",
     "start_time": "2024-01-07T20:05:46.074433Z"
    }
   },
   "outputs": [
    {
     "data": {
      "text/html": [
       "<div>\n",
       "<style scoped>\n",
       "    .dataframe tbody tr th:only-of-type {\n",
       "        vertical-align: middle;\n",
       "    }\n",
       "\n",
       "    .dataframe tbody tr th {\n",
       "        vertical-align: top;\n",
       "    }\n",
       "\n",
       "    .dataframe thead tr th {\n",
       "        text-align: left;\n",
       "    }\n",
       "\n",
       "    .dataframe thead tr:last-of-type th {\n",
       "        text-align: right;\n",
       "    }\n",
       "</style>\n",
       "<table border=\"1\" class=\"dataframe\">\n",
       "  <thead>\n",
       "    <tr>\n",
       "      <th></th>\n",
       "      <th colspan=\"10\" halign=\"left\">Зарплата у $$$ за місяць, лише ставка після сплати податків</th>\n",
       "    </tr>\n",
       "    <tr>\n",
       "      <th>Ваш тайтл</th>\n",
       "      <th>Intern/Trainee</th>\n",
       "      <th>Junior</th>\n",
       "      <th>Немає тайтлу</th>\n",
       "      <th>Middle</th>\n",
       "      <th>Senior</th>\n",
       "      <th>Tech Lead</th>\n",
       "      <th>Team Lead</th>\n",
       "      <th>Architect</th>\n",
       "      <th>Head</th>\n",
       "      <th>Manager</th>\n",
       "    </tr>\n",
       "    <tr>\n",
       "      <th>Знання англійської мови</th>\n",
       "      <th></th>\n",
       "      <th></th>\n",
       "      <th></th>\n",
       "      <th></th>\n",
       "      <th></th>\n",
       "      <th></th>\n",
       "      <th></th>\n",
       "      <th></th>\n",
       "      <th></th>\n",
       "      <th></th>\n",
       "    </tr>\n",
       "  </thead>\n",
       "  <tbody>\n",
       "    <tr>\n",
       "      <th>Elementary</th>\n",
       "      <td>500.0</td>\n",
       "      <td>600.0</td>\n",
       "      <td>550.0</td>\n",
       "      <td>1500.0</td>\n",
       "      <td>2500.0</td>\n",
       "      <td>5000.0</td>\n",
       "      <td>2100.0</td>\n",
       "      <td>NaN</td>\n",
       "      <td>1500.0</td>\n",
       "      <td>1120.0</td>\n",
       "    </tr>\n",
       "    <tr>\n",
       "      <th>Pre-Intermediate</th>\n",
       "      <td>400.0</td>\n",
       "      <td>800.0</td>\n",
       "      <td>934.0</td>\n",
       "      <td>1825.0</td>\n",
       "      <td>3500.0</td>\n",
       "      <td>4000.0</td>\n",
       "      <td>2850.0</td>\n",
       "      <td>2900.0</td>\n",
       "      <td>2400.0</td>\n",
       "      <td>1225.0</td>\n",
       "    </tr>\n",
       "    <tr>\n",
       "      <th>Intermediate</th>\n",
       "      <td>400.0</td>\n",
       "      <td>900.0</td>\n",
       "      <td>1300.0</td>\n",
       "      <td>2200.0</td>\n",
       "      <td>4100.0</td>\n",
       "      <td>5000.0</td>\n",
       "      <td>3800.0</td>\n",
       "      <td>5450.0</td>\n",
       "      <td>3500.0</td>\n",
       "      <td>2100.0</td>\n",
       "    </tr>\n",
       "    <tr>\n",
       "      <th>Upper-Intermediate</th>\n",
       "      <td>485.0</td>\n",
       "      <td>1000.0</td>\n",
       "      <td>1600.0</td>\n",
       "      <td>2500.0</td>\n",
       "      <td>4750.0</td>\n",
       "      <td>5650.0</td>\n",
       "      <td>4655.0</td>\n",
       "      <td>6400.0</td>\n",
       "      <td>4000.0</td>\n",
       "      <td>3600.0</td>\n",
       "    </tr>\n",
       "    <tr>\n",
       "      <th>Advanced</th>\n",
       "      <td>500.0</td>\n",
       "      <td>1000.0</td>\n",
       "      <td>2075.0</td>\n",
       "      <td>2500.0</td>\n",
       "      <td>4750.0</td>\n",
       "      <td>6000.0</td>\n",
       "      <td>5000.0</td>\n",
       "      <td>7000.0</td>\n",
       "      <td>5000.0</td>\n",
       "      <td>4000.0</td>\n",
       "    </tr>\n",
       "  </tbody>\n",
       "</table>\n",
       "</div>"
      ],
      "text/plain": [
       "                        Зарплата у $$$ за місяць, лише ставка після сплати податків  \\\n",
       "Ваш тайтл                                                            Intern/Trainee   \n",
       "Знання англійської мови                                                               \n",
       "Elementary                                                           500.0            \n",
       "Pre-Intermediate                                                     400.0            \n",
       "Intermediate                                                         400.0            \n",
       "Upper-Intermediate                                                   485.0            \n",
       "Advanced                                                             500.0            \n",
       "\n",
       "                                                                        \\\n",
       "Ваш тайтл                Junior Немає тайтлу  Middle  Senior Tech Lead   \n",
       "Знання англійської мови                                                  \n",
       "Elementary                600.0        550.0  1500.0  2500.0    5000.0   \n",
       "Pre-Intermediate          800.0        934.0  1825.0  3500.0    4000.0   \n",
       "Intermediate              900.0       1300.0  2200.0  4100.0    5000.0   \n",
       "Upper-Intermediate       1000.0       1600.0  2500.0  4750.0    5650.0   \n",
       "Advanced                 1000.0       2075.0  2500.0  4750.0    6000.0   \n",
       "\n",
       "                                                             \n",
       "Ваш тайтл               Team Lead Architect    Head Manager  \n",
       "Знання англійської мови                                      \n",
       "Elementary                 2100.0       NaN  1500.0  1120.0  \n",
       "Pre-Intermediate           2850.0    2900.0  2400.0  1225.0  \n",
       "Intermediate               3800.0    5450.0  3500.0  2100.0  \n",
       "Upper-Intermediate         4655.0    6400.0  4000.0  3600.0  \n",
       "Advanced                   5000.0    7000.0  5000.0  4000.0  "
      ]
     },
     "execution_count": 72,
     "metadata": {},
     "output_type": "execute_result"
    }
   ],
   "source": [
    "comparison =df.pivot_table(index=['Знання англійської мови'], columns=['Ваш тайтл'], values=[\"Зарплата у $$$ за місяць, лише ставка після сплати податків\"], aggfunc=\"median\")\n",
    "comparison\n",
    "# Чим вища кваліфікація та вищі знання англ мови більше заробляють"
   ]
  },
  {
   "cell_type": "markdown",
   "id": "edbb7046",
   "metadata": {},
   "source": [
    "13. Виведіть результат методу describe() для топ 5 за частотою зустрічання в даних областей (В якій області ви зараз живете?). Зробіть висновки, де вигідніше жити з точки зору ЗП і чи суттєва різниця на Ваш погляд для прийняття рішення про переїзд?"
   ]
  },
  {
   "cell_type": "code",
   "execution_count": 84,
   "id": "ca3e7942",
   "metadata": {
    "ExecuteTime": {
     "end_time": "2024-01-07T21:30:04.798109Z",
     "start_time": "2024-01-07T21:30:04.647160Z"
    }
   },
   "outputs": [
    {
     "data": {
      "text/html": [
       "<div>\n",
       "<style scoped>\n",
       "    .dataframe tbody tr th:only-of-type {\n",
       "        vertical-align: middle;\n",
       "    }\n",
       "\n",
       "    .dataframe tbody tr th {\n",
       "        vertical-align: top;\n",
       "    }\n",
       "\n",
       "    .dataframe thead tr th {\n",
       "        text-align: left;\n",
       "    }\n",
       "\n",
       "    .dataframe thead tr:last-of-type th {\n",
       "        text-align: right;\n",
       "    }\n",
       "</style>\n",
       "<table border=\"1\" class=\"dataframe\">\n",
       "  <thead>\n",
       "    <tr>\n",
       "      <th></th>\n",
       "      <th colspan=\"8\" halign=\"left\">Timestamp</th>\n",
       "      <th colspan=\"2\" halign=\"left\">Зарплата у $$$ за місяць, лише ставка після сплати податків</th>\n",
       "      <th>...</th>\n",
       "      <th colspan=\"2\" halign=\"left\">Ваш вік</th>\n",
       "      <th colspan=\"8\" halign=\"left\">result</th>\n",
       "    </tr>\n",
       "    <tr>\n",
       "      <th></th>\n",
       "      <th>count</th>\n",
       "      <th>mean</th>\n",
       "      <th>min</th>\n",
       "      <th>25%</th>\n",
       "      <th>50%</th>\n",
       "      <th>75%</th>\n",
       "      <th>max</th>\n",
       "      <th>std</th>\n",
       "      <th>count</th>\n",
       "      <th>mean</th>\n",
       "      <th>...</th>\n",
       "      <th>max</th>\n",
       "      <th>std</th>\n",
       "      <th>count</th>\n",
       "      <th>mean</th>\n",
       "      <th>min</th>\n",
       "      <th>25%</th>\n",
       "      <th>50%</th>\n",
       "      <th>75%</th>\n",
       "      <th>max</th>\n",
       "      <th>std</th>\n",
       "    </tr>\n",
       "    <tr>\n",
       "      <th>В якій області ви зараз живете?</th>\n",
       "      <th></th>\n",
       "      <th></th>\n",
       "      <th></th>\n",
       "      <th></th>\n",
       "      <th></th>\n",
       "      <th></th>\n",
       "      <th></th>\n",
       "      <th></th>\n",
       "      <th></th>\n",
       "      <th></th>\n",
       "      <th></th>\n",
       "      <th></th>\n",
       "      <th></th>\n",
       "      <th></th>\n",
       "      <th></th>\n",
       "      <th></th>\n",
       "      <th></th>\n",
       "      <th></th>\n",
       "      <th></th>\n",
       "      <th></th>\n",
       "      <th></th>\n",
       "    </tr>\n",
       "  </thead>\n",
       "  <tbody>\n",
       "    <tr>\n",
       "      <th>Івано-Франківськ чи область</th>\n",
       "      <td>478</td>\n",
       "      <td>2022-12-12 12:08:58.324267776</td>\n",
       "      <td>2022-11-30 10:26:37</td>\n",
       "      <td>2022-12-03 03:42:15</td>\n",
       "      <td>2022-12-08 12:48:00</td>\n",
       "      <td>2022-12-20 21:12:33.249999872</td>\n",
       "      <td>2023-01-08 12:32:00</td>\n",
       "      <td>NaN</td>\n",
       "      <td>478.0</td>\n",
       "      <td>2705.257322</td>\n",
       "      <td>...</td>\n",
       "      <td>57.0</td>\n",
       "      <td>6.026827</td>\n",
       "      <td>0.0</td>\n",
       "      <td>NaN</td>\n",
       "      <td>NaN</td>\n",
       "      <td>NaN</td>\n",
       "      <td>NaN</td>\n",
       "      <td>NaN</td>\n",
       "      <td>NaN</td>\n",
       "      <td>NaN</td>\n",
       "    </tr>\n",
       "    <tr>\n",
       "      <th>Вінниця чи область</th>\n",
       "      <td>447</td>\n",
       "      <td>2022-12-10 10:10:05.129753856</td>\n",
       "      <td>2022-11-30 10:29:59</td>\n",
       "      <td>2022-12-01 09:14:30</td>\n",
       "      <td>2022-12-07 09:41:00</td>\n",
       "      <td>2022-12-14 15:30:05.500000</td>\n",
       "      <td>2023-01-08 16:24:00</td>\n",
       "      <td>NaN</td>\n",
       "      <td>446.0</td>\n",
       "      <td>2878.973094</td>\n",
       "      <td>...</td>\n",
       "      <td>45.0</td>\n",
       "      <td>5.933453</td>\n",
       "      <td>0.0</td>\n",
       "      <td>NaN</td>\n",
       "      <td>NaN</td>\n",
       "      <td>NaN</td>\n",
       "      <td>NaN</td>\n",
       "      <td>NaN</td>\n",
       "      <td>NaN</td>\n",
       "      <td>NaN</td>\n",
       "    </tr>\n",
       "    <tr>\n",
       "      <th>Дніпро чи область</th>\n",
       "      <td>751</td>\n",
       "      <td>2022-12-12 01:29:15.159787008</td>\n",
       "      <td>2022-11-30 10:28:03</td>\n",
       "      <td>2022-12-03 14:16:30</td>\n",
       "      <td>2022-12-08 12:09:00</td>\n",
       "      <td>2022-12-19 12:55:15.500000</td>\n",
       "      <td>2023-01-09 11:19:00</td>\n",
       "      <td>NaN</td>\n",
       "      <td>751.0</td>\n",
       "      <td>2582.584554</td>\n",
       "      <td>...</td>\n",
       "      <td>63.0</td>\n",
       "      <td>6.006684</td>\n",
       "      <td>0.0</td>\n",
       "      <td>NaN</td>\n",
       "      <td>NaN</td>\n",
       "      <td>NaN</td>\n",
       "      <td>NaN</td>\n",
       "      <td>NaN</td>\n",
       "      <td>NaN</td>\n",
       "      <td>NaN</td>\n",
       "    </tr>\n",
       "    <tr>\n",
       "      <th>Київ чи область</th>\n",
       "      <td>4411</td>\n",
       "      <td>2022-12-11 15:57:49.440942848</td>\n",
       "      <td>2022-11-30 10:26:58</td>\n",
       "      <td>2022-12-03 14:08:00</td>\n",
       "      <td>2022-12-08 12:06:00</td>\n",
       "      <td>2022-12-15 23:31:06</td>\n",
       "      <td>2023-01-09 10:14:00</td>\n",
       "      <td>NaN</td>\n",
       "      <td>4409.0</td>\n",
       "      <td>3142.334997</td>\n",
       "      <td>...</td>\n",
       "      <td>60.0</td>\n",
       "      <td>6.038581</td>\n",
       "      <td>0.0</td>\n",
       "      <td>NaN</td>\n",
       "      <td>NaN</td>\n",
       "      <td>NaN</td>\n",
       "      <td>NaN</td>\n",
       "      <td>NaN</td>\n",
       "      <td>NaN</td>\n",
       "      <td>NaN</td>\n",
       "    </tr>\n",
       "    <tr>\n",
       "      <th>Львів чи область</th>\n",
       "      <td>2353</td>\n",
       "      <td>2022-12-12 00:18:04.175095808</td>\n",
       "      <td>2022-11-30 10:27:31</td>\n",
       "      <td>2022-12-02 14:52:00</td>\n",
       "      <td>2022-12-08 12:06:00</td>\n",
       "      <td>2022-12-20 01:51:15</td>\n",
       "      <td>2023-01-08 22:13:00</td>\n",
       "      <td>NaN</td>\n",
       "      <td>2351.0</td>\n",
       "      <td>3122.163760</td>\n",
       "      <td>...</td>\n",
       "      <td>58.0</td>\n",
       "      <td>5.737264</td>\n",
       "      <td>0.0</td>\n",
       "      <td>NaN</td>\n",
       "      <td>NaN</td>\n",
       "      <td>NaN</td>\n",
       "      <td>NaN</td>\n",
       "      <td>NaN</td>\n",
       "      <td>NaN</td>\n",
       "      <td>NaN</td>\n",
       "    </tr>\n",
       "  </tbody>\n",
       "</table>\n",
       "<p>5 rows × 32 columns</p>\n",
       "</div>"
      ],
      "text/plain": [
       "                                Timestamp                                 \\\n",
       "                                    count                           mean   \n",
       "В якій області ви зараз живете?                                            \n",
       "Івано-Франківськ чи область           478  2022-12-12 12:08:58.324267776   \n",
       "Вінниця чи область                    447  2022-12-10 10:10:05.129753856   \n",
       "Дніпро чи область                     751  2022-12-12 01:29:15.159787008   \n",
       "Київ чи область                      4411  2022-12-11 15:57:49.440942848   \n",
       "Львів чи область                     2353  2022-12-12 00:18:04.175095808   \n",
       "\n",
       "                                                                           \\\n",
       "                                                 min                  25%   \n",
       "В якій області ви зараз живете?                                             \n",
       "Івано-Франківськ чи область      2022-11-30 10:26:37  2022-12-03 03:42:15   \n",
       "Вінниця чи область               2022-11-30 10:29:59  2022-12-01 09:14:30   \n",
       "Дніпро чи область                2022-11-30 10:28:03  2022-12-03 14:16:30   \n",
       "Київ чи область                  2022-11-30 10:26:58  2022-12-03 14:08:00   \n",
       "Львів чи область                 2022-11-30 10:27:31  2022-12-02 14:52:00   \n",
       "\n",
       "                                                      \\\n",
       "                                                 50%   \n",
       "В якій області ви зараз живете?                        \n",
       "Івано-Франківськ чи область      2022-12-08 12:48:00   \n",
       "Вінниця чи область               2022-12-07 09:41:00   \n",
       "Дніпро чи область                2022-12-08 12:09:00   \n",
       "Київ чи область                  2022-12-08 12:06:00   \n",
       "Львів чи область                 2022-12-08 12:06:00   \n",
       "\n",
       "                                                                \\\n",
       "                                                           75%   \n",
       "В якій області ви зараз живете?                                  \n",
       "Івано-Франківськ чи область      2022-12-20 21:12:33.249999872   \n",
       "Вінниця чи область                  2022-12-14 15:30:05.500000   \n",
       "Дніпро чи область                   2022-12-19 12:55:15.500000   \n",
       "Київ чи область                            2022-12-15 23:31:06   \n",
       "Львів чи область                           2022-12-20 01:51:15   \n",
       "\n",
       "                                                           \\\n",
       "                                                 max  std   \n",
       "В якій області ви зараз живете?                             \n",
       "Івано-Франківськ чи область      2023-01-08 12:32:00  NaN   \n",
       "Вінниця чи область               2023-01-08 16:24:00  NaN   \n",
       "Дніпро чи область                2023-01-09 11:19:00  NaN   \n",
       "Київ чи область                  2023-01-09 10:14:00  NaN   \n",
       "Львів чи область                 2023-01-08 22:13:00  NaN   \n",
       "\n",
       "                                Зарплата у $$$ за місяць, лише ставка після сплати податків  \\\n",
       "                                                                                      count   \n",
       "В якій області ви зараз живете?                                                               \n",
       "Івано-Франківськ чи область                                                  478.0            \n",
       "Вінниця чи область                                                           446.0            \n",
       "Дніпро чи область                                                            751.0            \n",
       "Київ чи область                                                             4409.0            \n",
       "Львів чи область                                                            2351.0            \n",
       "\n",
       "                                              ... Ваш вік           result  \\\n",
       "                                        mean  ...     max       std  count   \n",
       "В якій області ви зараз живете?               ...                            \n",
       "Івано-Франківськ чи область      2705.257322  ...    57.0  6.026827    0.0   \n",
       "Вінниця чи область               2878.973094  ...    45.0  5.933453    0.0   \n",
       "Дніпро чи область                2582.584554  ...    63.0  6.006684    0.0   \n",
       "Київ чи область                  3142.334997  ...    60.0  6.038581    0.0   \n",
       "Львів чи область                 3122.163760  ...    58.0  5.737264    0.0   \n",
       "\n",
       "                                                              \n",
       "                                mean min 25% 50% 75% max std  \n",
       "В якій області ви зараз живете?                               \n",
       "Івано-Франківськ чи область      NaN NaN NaN NaN NaN NaN NaN  \n",
       "Вінниця чи область               NaN NaN NaN NaN NaN NaN NaN  \n",
       "Дніпро чи область                NaN NaN NaN NaN NaN NaN NaN  \n",
       "Київ чи область                  NaN NaN NaN NaN NaN NaN NaN  \n",
       "Львів чи область                 NaN NaN NaN NaN NaN NaN NaN  \n",
       "\n",
       "[5 rows x 32 columns]"
      ]
     },
     "execution_count": 84,
     "metadata": {},
     "output_type": "execute_result"
    }
   ],
   "source": [
    "top_cities = df[df[\"В якій області ви зараз живете?\"].isin(city.index[:5])]\n",
    "description = top_5_cities.groupby(\"В якій області ви зараз живете?\").describe()\n",
    "description\n",
    "# Загаом суттєва змінна ,але і суттєво змінюється кошти на проживання у інших містах "
   ]
  },
  {
   "cell_type": "markdown",
   "id": "3bc4a018",
   "metadata": {},
   "source": [
    "14. Як зростає зарплата з роками? Для цього нам треба відформатувати колонку \"Загальний стаж роботи за спеціальністю\" аналогічно до того, як ми це робили для колонки 'Знання англійської мови' і потім вивести медіанні значення для кількості років стажу."
   ]
  },
  {
   "cell_type": "code",
   "execution_count": 97,
   "id": "20c1b2eb",
   "metadata": {
    "ExecuteTime": {
     "end_time": "2024-01-07T21:51:10.297029Z",
     "start_time": "2024-01-07T21:51:10.268580Z"
    }
   },
   "outputs": [
    {
     "data": {
      "text/plain": [
       "Загальний стаж роботи за спеціальністю\n",
       "Менше як 3 місяці     800.0\n",
       "3 місяці              525.0\n",
       "Пів року              700.0\n",
       "1 рік                 950.0\n",
       "1,5 року             1200.0\n",
       "2 роки               1700.0\n",
       "3 роки               2450.0\n",
       "4 роки               3000.0\n",
       "5 років              3500.0\n",
       "6 років              4000.0\n",
       "7 років              4250.0\n",
       "8 років              4700.0\n",
       "9 років              4500.0\n",
       "10 років             4600.0\n",
       "11 років             5000.0\n",
       "12 років             4750.0\n",
       "13 років             4500.0\n",
       "14 років             5050.0\n",
       "15 і більше років    4500.0\n",
       "Name: Зарплата у $$$ за місяць, лише ставка після сплати податків, dtype: float64"
      ]
     },
     "execution_count": 97,
     "metadata": {},
     "output_type": "execute_result"
    }
   ],
   "source": [
    "df['Загальний стаж роботи за спеціальністю'] = pd.Categorical(df['Загальний стаж роботи за спеціальністю'], \n",
    "                      categories=['Менше як 3 місяці','3 місяці', 'Пів року', '1 рік', '1,5 року', '2 роки', '3 роки', '4 роки', '5 років', '6 років', '7 років', '8 років', '9 років', '10 років', '11 років', '12 років', '13 років', '14 років', '15 і більше років'],\n",
    "                      ordered=True)\n",
    "df.groupby('Загальний стаж роботи за спеціальністю')['Зарплата у $$$ за місяць, лише ставка після сплати податків'].median()"
   ]
  },
  {
   "cell_type": "markdown",
   "id": "b14a10ee",
   "metadata": {},
   "source": [
    "Далі тут можна зробити багато аналогічних агрегацій, проаналізувати, в який час люди заповнювали форму, хто більше отримує, Business Analyst, чи Data Analyst. Я вас заохочувати не стримувати свій інтерес і покапати ці дані далі :)"
   ]
  },
  {
   "cell_type": "code",
   "execution_count": 103,
   "id": "9302fca3",
   "metadata": {
    "ExecuteTime": {
     "end_time": "2024-01-07T22:00:18.151370Z",
     "start_time": "2024-01-07T22:00:18.132497Z"
    }
   },
   "outputs": [
    {
     "name": "stdout",
     "output_type": "stream",
     "text": [
      "Оберіть вашу посаду\n",
      "Analyst (Business, Data, System)                                                  2305.026804\n",
      "Customer Success                                                                  1495.000000\n",
      "DBA                                                                               4112.962963\n",
      "Data Science, Machine Learning, Big Data                                          3354.336806\n",
      "Designer / Artist (Graphic, UX/UI, Game, Artist, Sound etc.)                      2106.424742\n",
      "DevOps, SRE                                                                       3929.758523\n",
      "ERP/CRM                                                                           2394.729730\n",
      "Game Developer / Programmer                                                       2246.531250\n",
      "HR/Recruiter                                                                      1577.493739\n",
      "HTML Coder                                                                        1038.803571\n",
      "Hardware Engineer                                                                 1838.888889\n",
      "Legal                                                                             1662.500000\n",
      "Marketing, SEO, Copywriter                                                        1654.832237\n",
      "Project/Product/Program Manager, Product Owner, Scrum Master, Delivery Manager    2983.941535\n",
      "QA Engineer (Junior, Middle, Senior, Team/Tech Lead, Manager)                     2274.581041\n",
      "Sales Manager                                                                     1431.337079\n",
      "Security Specialist                                                               2792.209302\n",
      "Software Engineer (Junior, Middle, Senior, Team/Tech Lead, Architect)             3588.704286\n",
      "Support                                                                           1377.576923\n",
      "SysAdmin                                                                          1312.556818\n",
      "Technical writer                                                                  2027.694444\n",
      "СTO, Director of Engineering, Program Director, CEO, (co-)founder                 6237.000000\n",
      "Name: Зарплата у $$$ за місяць, лише ставка після сплати податків, dtype: float64\n"
     ]
    }
   ],
   "source": [
    "salary_by_position = df.groupby('Оберіть вашу посаду')['Зарплата у $$$ за місяць, лише ставка після сплати податків'].mean()\n",
    "print(salary_by_position)"
   ]
  },
  {
   "cell_type": "code",
   "execution_count": null,
   "id": "4f7de417",
   "metadata": {},
   "outputs": [],
   "source": []
  }
 ],
 "metadata": {
  "kernelspec": {
   "display_name": "Python 3 (ipykernel)",
   "language": "python",
   "name": "python3"
  },
  "language_info": {
   "codemirror_mode": {
    "name": "ipython",
    "version": 3
   },
   "file_extension": ".py",
   "mimetype": "text/x-python",
   "name": "python",
   "nbconvert_exporter": "python",
   "pygments_lexer": "ipython3",
   "version": "3.11.5"
  },
  "toc": {
   "base_numbering": 1,
   "nav_menu": {},
   "number_sections": true,
   "sideBar": true,
   "skip_h1_title": false,
   "title_cell": "Table of Contents",
   "title_sidebar": "Contents",
   "toc_cell": false,
   "toc_position": {},
   "toc_section_display": true,
   "toc_window_display": false
  }
 },
 "nbformat": 4,
 "nbformat_minor": 5
}
