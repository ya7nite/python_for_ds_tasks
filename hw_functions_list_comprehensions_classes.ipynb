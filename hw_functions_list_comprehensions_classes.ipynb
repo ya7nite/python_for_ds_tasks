{
 "cells": [
  {
   "cell_type": "markdown",
   "id": "1846cdd5",
   "metadata": {
    "ExecuteTime": {
     "end_time": "2023-06-16T11:08:23.474987Z",
     "start_time": "2023-06-16T11:08:23.466341Z"
    }
   },
   "source": [
    "В цьому наборі завдань попрацюємо з фукнціями, класами та list comprehensions.\n",
    "Нагадую синтаксис list comprehension \n",
    "- з умовою if:\n",
    "```\n",
    "newlist = [expression for item in iterable if condition == True]\n",
    "```\n",
    "\n",
    "- з умовою if...else:\n",
    "```\n",
    "newlist = [expression if condition == True else second_expression for item in iterable ]\n",
    "```"
   ]
  },
  {
   "cell_type": "markdown",
   "id": "306cbd4e",
   "metadata": {
    "ExecuteTime": {
     "end_time": "2023-06-15T10:01:54.759901Z",
     "start_time": "2023-06-15T10:01:54.754516Z"
    }
   },
   "source": [
    "1.Задана функція `strange_func`. \n",
    "Запустіть цю функцію на обчислення всіх елементів зі списку `input_list`. Результат обчислень запишіть у `output_list` та виведіть `output_list` на екран.\n",
    "\n",
    "Реалізуйте прохід всіх елементів списку `input_list` через цикл та через `list comprehension` - двома способами окремо."
   ]
  },
  {
   "cell_type": "code",
   "execution_count": 1,
   "id": "b5bab760",
   "metadata": {
    "ExecuteTime": {
     "end_time": "2023-11-04T22:12:31.865432Z",
     "start_time": "2023-11-04T22:12:31.856116Z"
    }
   },
   "outputs": [],
   "source": [
    "def strange_func(number: int) -> str:\n",
    "        if number < 0:\n",
    "            return \"слон\"\n",
    "        else:\n",
    "            return \"жираф\"\n",
    "        "
   ]
  },
  {
   "cell_type": "code",
   "execution_count": 2,
   "id": "61d82a3e",
   "metadata": {
    "ExecuteTime": {
     "end_time": "2023-11-04T22:12:31.882951Z",
     "start_time": "2023-11-04T22:12:31.865432Z"
    }
   },
   "outputs": [],
   "source": [
    "input_list = [14, -48, 26, 33, 50, 36, 47, -3, 32, -6, -39, -1, 14, -35, 31, -28, 32, 4, 33, 11, -7, 43, -5, 17, -33, -37, 45, -27, -29, 14]"
   ]
  },
  {
   "cell_type": "code",
   "execution_count": 3,
   "id": "8eb67fab",
   "metadata": {
    "ExecuteTime": {
     "end_time": "2023-11-04T22:12:31.895067Z",
     "start_time": "2023-11-04T22:12:31.882951Z"
    }
   },
   "outputs": [
    {
     "name": "stdout",
     "output_type": "stream",
     "text": [
      "['жираф', 'слон', 'жираф', 'жираф', 'жираф', 'жираф', 'жираф', 'слон', 'жираф', 'слон', 'слон', 'слон', 'жираф', 'слон', 'жираф', 'слон', 'жираф', 'жираф', 'жираф', 'жираф', 'слон', 'жираф', 'слон', 'жираф', 'слон', 'слон', 'жираф', 'слон', 'слон', 'жираф']\n"
     ]
    }
   ],
   "source": [
    "output_list = []\n",
    "for number in input_list:\n",
    "    result = strange_func(number)\n",
    "    output_list.append(result)\n",
    "print(output_list)"
   ]
  },
  {
   "cell_type": "markdown",
   "id": "39a81ffe",
   "metadata": {
    "ExecuteTime": {
     "end_time": "2023-06-15T10:11:44.344785Z",
     "start_time": "2023-06-15T10:11:44.338699Z"
    }
   },
   "source": [
    "Очікуваний результат: ```['жираф', 'слон', 'жираф', 'жираф', 'жираф', 'жираф', 'жираф', 'слон', 'жираф', 'слон', 'слон', 'слон', 'жираф', 'слон', 'жираф', 'слон', 'жираф', 'жираф', 'жираф', 'жираф', 'слон', 'жираф', 'слон', 'жираф', 'слон', 'слон', 'жираф', 'слон', 'слон', 'жираф']```"
   ]
  },
  {
   "cell_type": "code",
   "execution_count": 4,
   "id": "cfbb508c",
   "metadata": {
    "ExecuteTime": {
     "end_time": "2023-11-04T22:12:31.912630Z",
     "start_time": "2023-11-04T22:12:31.895067Z"
    }
   },
   "outputs": [
    {
     "name": "stdout",
     "output_type": "stream",
     "text": [
      "['жираф', 'слон', 'жираф', 'жираф', 'жираф', 'жираф', 'жираф', 'слон', 'жираф', 'слон', 'слон', 'слон', 'жираф', 'слон', 'жираф', 'слон', 'жираф', 'жираф', 'жираф', 'жираф', 'слон', 'жираф', 'слон', 'жираф', 'слон', 'слон', 'жираф', 'слон', 'слон', 'жираф']\n"
     ]
    }
   ],
   "source": [
    "output_list = [result := strange_func(number) for number in input_list]\n",
    "print(output_list)"
   ]
  },
  {
   "cell_type": "markdown",
   "id": "cd421b5b",
   "metadata": {},
   "source": [
    "2.Напишіть функцію `custom_func`, яка приймає на вхід число, перевіряє, чи воно є цілочислельного типу, і якщо так, то перевіряє число на парність: \n",
    "- якщо парне - вертає це число в степені 3, \n",
    "- а якщо непарне - це число мінус 10.  \n",
    "\n",
    "Якщо ж число на вході не цілочисельного типу, функція вертає 0.  \n",
    "\n",
    "Запустіть цю функцію на обчислення всіх чисел зі списку `input_list`. Результат обчислень запишіть у `output_list` та виведіть `output_list` на екран. \n",
    "\n",
    "Реалізуйте прохід всіх чисел списку `input_list` через цикл та через `list comprehension` - двома способами окремо."
   ]
  },
  {
   "cell_type": "code",
   "execution_count": 5,
   "id": "384b00e0",
   "metadata": {
    "ExecuteTime": {
     "end_time": "2023-11-04T22:12:31.929416Z",
     "start_time": "2023-11-04T22:12:31.912630Z"
    }
   },
   "outputs": [],
   "source": [
    "input_list1 = [36, 11.1, 91, 93, 26, 12.3213, 69, 50, 58, 22, 77, 18, 24, 55, 11, 76, 10.111, 39, 49, 94, 34, 40, 13, 111.111, 26, 44, 11, 34, 30, 39, 84, 37, 16, 1]"
   ]
  },
  {
   "cell_type": "code",
   "execution_count": 6,
   "id": "a9220273",
   "metadata": {
    "ExecuteTime": {
     "end_time": "2023-11-04T22:12:31.945217Z",
     "start_time": "2023-11-04T22:12:31.929416Z"
    }
   },
   "outputs": [
    {
     "name": "stdout",
     "output_type": "stream",
     "text": [
      "[46656, 0, 81, 83, 17576, 0, 59, 125000, 195112, 10648, 67, 5832, 13824, 45, 1, 438976, 0, 29, 39, 830584, 39304, 64000, 3, 0, 17576, 85184, 1, 39304, 27000, 29, 592704, 27, 4096, -9]\n"
     ]
    }
   ],
   "source": [
    "def custom_func(number: int):\n",
    "    if isinstance(number,int):\n",
    "        if number % 2 == 0:\n",
    "            return number**3\n",
    "        else:\n",
    "            return number - 10\n",
    "    else:\n",
    "        return 0\n",
    "\n",
    "output_list1 = []\n",
    "for number in input_list1:\n",
    "    result1 = custom_func(number)\n",
    "    output_list1.append(result1)\n",
    "print(output_list1)"
   ]
  },
  {
   "cell_type": "code",
   "execution_count": 7,
   "id": "0bb486c2",
   "metadata": {
    "ExecuteTime": {
     "end_time": "2023-11-04T22:12:31.961212Z",
     "start_time": "2023-11-04T22:12:31.945217Z"
    }
   },
   "outputs": [
    {
     "name": "stdout",
     "output_type": "stream",
     "text": [
      "[46656, 0, 81, 83, 17576, 0, 59, 125000, 195112, 10648, 67, 5832, 13824, 45, 1, 438976, 0, 29, 39, 830584, 39304, 64000, 3, 0, 17576, 85184, 1, 39304, 27000, 29, 592704, 27, 4096, -9]\n"
     ]
    }
   ],
   "source": [
    "output_list1 = [result := custom_func(number) for number in input_list1]\n",
    "print(output_list1)"
   ]
  },
  {
   "cell_type": "markdown",
   "id": "e2723875",
   "metadata": {
    "ExecuteTime": {
     "end_time": "2023-06-15T10:04:46.583145Z",
     "start_time": "2023-06-15T10:04:46.577899Z"
    }
   },
   "source": [
    "Очікуваний результат:\n",
    "```[46656, 0, 81, 83, 17576, 0, 59, 125000, 195112, 10648, 67, 5832, 13824, 45, 1, 438976, 0, 29, 39, 830584, 39304, 64000, 3, 0, 17576, 85184, 1, 39304, 27000, 29, 592704, 27, 4096, -9]```"
   ]
  },
  {
   "cell_type": "markdown",
   "id": "12db4919",
   "metadata": {
    "ExecuteTime": {
     "end_time": "2023-06-15T10:06:39.204299Z",
     "start_time": "2023-06-15T10:06:39.198232Z"
    }
   },
   "source": [
    "Аби програмно порівняти ваш результат за очікуваним - використайте код нижче:"
   ]
  },
  {
   "cell_type": "code",
   "execution_count": 8,
   "id": "84c13de2",
   "metadata": {
    "ExecuteTime": {
     "end_time": "2023-11-04T22:12:31.991529Z",
     "start_time": "2023-11-04T22:12:31.961212Z"
    }
   },
   "outputs": [
    {
     "data": {
      "text/plain": [
       "True"
      ]
     },
     "execution_count": 8,
     "metadata": {},
     "output_type": "execute_result"
    }
   ],
   "source": [
    "output_list1 == [46656, 0, 81, 83, 17576, 0, 59, 125000, 195112, 10648, 67, 5832, 13824, 45, 1, 438976, 0, 29, 39, 830584, 39304, 64000, 3, 0, 17576, 85184, 1, 39304, 27000, 29, 592704, 27, 4096, -9]"
   ]
  },
  {
   "cell_type": "markdown",
   "id": "602e8fd8",
   "metadata": {
    "ExecuteTime": {
     "end_time": "2023-06-15T09:50:40.693543Z",
     "start_time": "2023-06-15T09:50:40.680059Z"
    }
   },
   "source": [
    "3.Напишіть функцію, яка отримує список чисел і повертає інший список із квадратами чисел, які діляться на 2 із вихідного списку. Наприклад, якщо на вході список [1,2,3,4], то на виході буде список [4,8].\n",
    "\n",
    "Запустіть функцію на вхідних списках `numbers_1`, `numbers_2`, `numbers_3` та виведіть результат роботи фукнції на екран."
   ]
  },
  {
   "cell_type": "code",
   "execution_count": 9,
   "id": "4ed96c9d",
   "metadata": {
    "ExecuteTime": {
     "end_time": "2023-11-04T22:12:32.012107Z",
     "start_time": "2023-11-04T22:12:31.991529Z"
    }
   },
   "outputs": [],
   "source": [
    "numbers_1 = [1, 2, 3, 4, 5, 6, 7, 8, 9, 10]\n",
    "numbers_2 = [-18, 35, 50, 2, -39, 8, -39, -15, 14, -42]\n",
    "numbers_3 = [-3.1, 1.11, 3.48, 4.48, 4.68, -1.59, -1.8, 1.76, 4.7, 2.0]"
   ]
  },
  {
   "cell_type": "code",
   "execution_count": 10,
   "id": "d8b1a5d7",
   "metadata": {
    "ExecuteTime": {
     "end_time": "2023-11-04T22:12:32.030962Z",
     "start_time": "2023-11-04T22:12:32.012107Z"
    }
   },
   "outputs": [
    {
     "name": "stdout",
     "output_type": "stream",
     "text": [
      "[4, 16, 36, 64, 100]\n",
      "[324, 2500, 4, 64, 196, 1764]\n",
      "[4.0]\n"
     ]
    }
   ],
   "source": [
    "def square(numbers):\n",
    "    really_square = []\n",
    "    for number in numbers:\n",
    "            if number % 2 == 0:\n",
    "                really_square.append(number**2)\n",
    "    return really_square\n",
    "\n",
    "print(square(numbers_1))\n",
    "print(square(numbers_2))\n",
    "print(square(numbers_3))"
   ]
  },
  {
   "cell_type": "markdown",
   "id": "96fead27",
   "metadata": {
    "ExecuteTime": {
     "end_time": "2023-06-15T10:18:22.220464Z",
     "start_time": "2023-06-15T10:18:22.215833Z"
    }
   },
   "source": [
    "Очікуваний результат:\n",
    "\n",
    "```\n",
    "    [4, 16, 36, 64, 100]\n",
    "    [324, 2500, 4, 64, 196, 1764]\n",
    "    [4.0]\n",
    "```"
   ]
  },
  {
   "cell_type": "markdown",
   "id": "93830499",
   "metadata": {},
   "source": [
    "4. Наданий список фруктів. Запишіть у новий список лише ті фрукти, які містять у своїй назві літеру `a`. Виведіть фінальний список на екран.\n",
    "\n",
    "Виконайте завдання із використанням циклу, та через `list comprehension` - двома способами окремо.  \n",
    "Увага! В цьому завданні логіку перевірки чи містить рядок літеру можна винести у функцію. Але якщо не виносити, то реалізація з `list comprehension` буде цікавішою :)"
   ]
  },
  {
   "cell_type": "code",
   "execution_count": 11,
   "id": "9d52d585",
   "metadata": {
    "ExecuteTime": {
     "end_time": "2023-11-04T22:12:32.046006Z",
     "start_time": "2023-11-04T22:12:32.030962Z"
    }
   },
   "outputs": [],
   "source": [
    "fruits = [\"apple\", \"banana\", \"cherry\", \"date\", \"elderberry\", \"fig\", \"grape\", \"honeydew\", \"indian prune\", \"jackfruit\", \"kiwi\", \"lemon\", \"mango\", \"nectarine\", \"orange\", \"pineapple\", \"quince\", \"raspberry\", \"strawberry\", \"tangerine\", \"ugli fruit\", \"victoria plum\", \"watermelon\", \"xigua\", \"yellow passionfruit\", \"zucchini\"]"
   ]
  },
  {
   "cell_type": "code",
   "execution_count": 12,
   "id": "e503441f",
   "metadata": {
    "ExecuteTime": {
     "end_time": "2023-11-04T22:12:32.062110Z",
     "start_time": "2023-11-04T22:12:32.046006Z"
    }
   },
   "outputs": [
    {
     "name": "stdout",
     "output_type": "stream",
     "text": [
      "apple\n",
      "banana\n",
      "date\n",
      "grape\n",
      "indian prune\n",
      "jackfruit\n",
      "mango\n",
      "nectarine\n",
      "orange\n",
      "pineapple\n",
      "raspberry\n",
      "strawberry\n",
      "tangerine\n",
      "victoria plum\n",
      "watermelon\n",
      "xigua\n",
      "yellow passionfruit\n"
     ]
    }
   ],
   "source": [
    "new_list = []\n",
    "for new_list in fruits:\n",
    "    if \"a\" in new_list:\n",
    "        print(new_list)"
   ]
  },
  {
   "cell_type": "code",
   "execution_count": 13,
   "id": "58b5a4f6",
   "metadata": {
    "ExecuteTime": {
     "end_time": "2023-11-04T22:12:32.078612Z",
     "start_time": "2023-11-04T22:12:32.062110Z"
    }
   },
   "outputs": [
    {
     "name": "stdout",
     "output_type": "stream",
     "text": [
      "['apple', 'banana', 'date', 'grape', 'indian prune', 'jackfruit', 'mango', 'nectarine', 'orange', 'pineapple', 'raspberry', 'strawberry', 'tangerine', 'victoria plum', 'watermelon', 'xigua', 'yellow passionfruit']\n"
     ]
    }
   ],
   "source": [
    "new_list1 = [fruit for fruit in fruits if \"a\" in fruit]\n",
    "print(new_list1)\n"
   ]
  },
  {
   "cell_type": "markdown",
   "id": "6eba3ce5",
   "metadata": {
    "ExecuteTime": {
     "end_time": "2023-06-16T11:12:20.070099Z",
     "start_time": "2023-06-16T11:12:20.065489Z"
    }
   },
   "source": [
    "5.Заданий список чисел. Створіть новий список на основі заданоо за наступною логікою\n",
    "- якщо число більше або дорівнює 45, то в новий список додаємо це число + 5. Наприклад, для числа 50 вихідного списку, в новий ми додамо число 55\n",
    "- інакше - це число - 4. Наприклад, для числа 30 вихідного списку, в новий ми додамо число 26  \n",
    "\n",
    "Виведіть отриманий список на екран.\n",
    "\n",
    "Реалізуйте логіку через цикл та через `list comprehension` - двома способами окремо."
   ]
  },
  {
   "cell_type": "code",
   "execution_count": 14,
   "id": "64c30414",
   "metadata": {
    "ExecuteTime": {
     "end_time": "2023-11-04T22:12:32.090071Z",
     "start_time": "2023-11-04T22:12:32.078612Z"
    }
   },
   "outputs": [],
   "source": [
    "input_list = [22, 13, 45, 50, 98, 69, 43, 44, 1]"
   ]
  },
  {
   "cell_type": "code",
   "execution_count": 16,
   "id": "0e3a8bcd",
   "metadata": {
    "ExecuteTime": {
     "end_time": "2023-11-04T22:13:06.355837Z",
     "start_time": "2023-11-04T22:13:06.343574Z"
    }
   },
   "outputs": [
    {
     "name": "stdout",
     "output_type": "stream",
     "text": [
      "[18, 9, 50, 55, 103, 74, 39, 40, -3]\n"
     ]
    }
   ],
   "source": [
    "remove_list = []\n",
    "for elem in input_list:\n",
    "    if elem >= 45:\n",
    "        remove_list.append(elem + 5)\n",
    "    else:\n",
    "        remove_list.append(elem - 4)\n",
    "\n",
    "print(remove_list)"
   ]
  },
  {
   "cell_type": "code",
   "execution_count": null,
   "id": "d4655942",
   "metadata": {
    "ExecuteTime": {
     "end_time": "2023-11-04T22:12:33.440566Z",
     "start_time": "2023-11-04T22:12:33.432928Z"
    }
   },
   "outputs": [],
   "source": [
    "\n",
    "remove_list = [elem + 5 if elem >= 45 else elem - 4 for elem in input_list]\n",
    "print(remove_list)"
   ]
  },
  {
   "cell_type": "markdown",
   "id": "3788acf1",
   "metadata": {},
   "source": [
    "6.Заданий список `input_list` з пропущеними значеннями. Напишіть логіку, за якою ми будемо створювати новий список такий, що якщо значення None, то ми замість нього вставляємо 0, інакше - елемент вихідного спику.\n",
    "Тобто зі списку [1, None, 2] за цією логікою ми отримаємо [1, 0, 2] у новому списку.\n",
    "\n",
    "Виведіть отриманий список на екран.\n",
    "\n",
    "Реалізуйте логіку через цикл та через list comprehension - двома способами окремо."
   ]
  },
  {
   "cell_type": "code",
   "execution_count": 17,
   "id": "7124a4c2",
   "metadata": {
    "ExecuteTime": {
     "end_time": "2023-11-04T22:13:21.320249Z",
     "start_time": "2023-11-04T22:13:21.310545Z"
    }
   },
   "outputs": [],
   "source": [
    "input_list = [22, None, 13, None, None, 45, 50, 98, None, 69, 43, 44, 1, None]"
   ]
  },
  {
   "cell_type": "code",
   "execution_count": 21,
   "id": "e7212a8c",
   "metadata": {
    "ExecuteTime": {
     "end_time": "2023-11-04T22:18:20.435453Z",
     "start_time": "2023-11-04T22:18:20.421992Z"
    }
   },
   "outputs": [
    {
     "name": "stdout",
     "output_type": "stream",
     "text": [
      "[22, 0, 13, 0, 0, 45, 50, 98, 0, 69, 43, 44, 1, 0]\n"
     ]
    }
   ],
   "source": [
    "numbers = []\n",
    "for number in input_list:\n",
    "    if number is None:\n",
    "        numbers.append(0)\n",
    "    else:\n",
    "        numbers.append(number)\n",
    "print(numbers)"
   ]
  },
  {
   "cell_type": "code",
   "execution_count": 23,
   "id": "d463fe0f",
   "metadata": {
    "ExecuteTime": {
     "end_time": "2023-11-04T22:20:42.328682Z",
     "start_time": "2023-11-04T22:20:42.317887Z"
    }
   },
   "outputs": [
    {
     "name": "stdout",
     "output_type": "stream",
     "text": [
      "[22, 0, 13, 0, 0, 45, 50, 98, 0, 69, 43, 44, 1, 0]\n"
     ]
    }
   ],
   "source": [
    "numbers1 = [0 if number is None else number for number in input_list]\n",
    "print(numbers1)"
   ]
  },
  {
   "cell_type": "markdown",
   "id": "6d491849",
   "metadata": {},
   "source": [
    "7.Заданий клас, який описує коло та вміє рахувати площу кола по заданому радіусу. Створіть два кола з радіусами 5 і 11. Обчислість з допомогою функціоналу класу площі цих двох кіл і виведіть результати на екран."
   ]
  },
  {
   "cell_type": "code",
   "execution_count": 24,
   "id": "fa5b47ac",
   "metadata": {
    "ExecuteTime": {
     "end_time": "2023-11-04T22:23:49.940082Z",
     "start_time": "2023-11-04T22:23:49.931222Z"
    }
   },
   "outputs": [],
   "source": [
    "import math\n",
    "\n",
    "class Circle:\n",
    "    def __init__(self, radius):\n",
    "        self.radius = radius\n",
    "\n",
    "    def calculate_area(self):\n",
    "        return round(math.pi * self.radius ** 2, 2)"
   ]
  },
  {
   "cell_type": "code",
   "execution_count": 33,
   "id": "2bcdc94a",
   "metadata": {
    "ExecuteTime": {
     "end_time": "2023-11-04T22:38:04.451186Z",
     "start_time": "2023-11-04T22:38:04.443572Z"
    }
   },
   "outputs": [
    {
     "name": "stdout",
     "output_type": "stream",
     "text": [
      "Резуьтат радіуса 5 = 78.54 а результат 11 = 380.13\n"
     ]
    }
   ],
   "source": [
    "circle = Circle(5)\n",
    "circle1 = Circle(11)\n",
    "area = circle.calculate_area()\n",
    "area1 = circle1.calculate_area()\n",
    "print(f\"Резуьтат радіуса 5 = {area} а результат 11 = {area1}\")"
   ]
  },
  {
   "cell_type": "markdown",
   "id": "430f698b",
   "metadata": {},
   "source": [
    "8.Додайте в клас `Circle`, визначений в попередньому завданні, метод для обчислення периметра `calculate_perimeter` з округленням до двох цифр після коми. Периметр кола рахується за формулою `C = 2 · π · r`, де π - це значення числа Пі, яке ми можемо отримати з math.pi, а r - радіус кола. Спопіюйте визначення класу і додайте в нього новий метод. Після цього створіть нові кола з радіусами 5 і 11 та обчисліть їх периметри.   \n",
    "Увага: нам треба додати новий метод, але ми нічого не видаляємо :)"
   ]
  },
  {
   "cell_type": "code",
   "execution_count": 38,
   "id": "731544fd",
   "metadata": {
    "ExecuteTime": {
     "end_time": "2023-11-04T22:48:01.721922Z",
     "start_time": "2023-11-04T22:48:01.712414Z"
    }
   },
   "outputs": [],
   "source": [
    "import math\n",
    "\n",
    "class Circle:\n",
    "    def __init__(self, radius):\n",
    "        self.radius = radius\n",
    "\n",
    "    def calculate_area(self):\n",
    "        return round(math.pi * self.radius ** 2, 2)\n",
    "    \n",
    "    def calculate_perimeter(self):\n",
    "        return round(2 * math.pi * self.radius)\n",
    "    "
   ]
  },
  {
   "cell_type": "code",
   "execution_count": 40,
   "id": "25075e91",
   "metadata": {
    "ExecuteTime": {
     "end_time": "2023-11-04T22:49:29.993953Z",
     "start_time": "2023-11-04T22:49:29.984215Z"
    }
   },
   "outputs": [
    {
     "name": "stdout",
     "output_type": "stream",
     "text": [
      "Резуьтат радіуса 5 = 78.54 та його периметер 31.42 а результат радіуса 11 = 380.13 та його периметер 31.42\n"
     ]
    }
   ],
   "source": [
    "circle = Circle(5)\n",
    "circle1 = Circle(11)\n",
    "area = circle.calculate_area()\n",
    "area1 = circle1.calculate_area()\n",
    "perimeter = circle.calculate_perimeter()\n",
    "perimeter1 = circle.calculate_perimeter()\n",
    "print(f\"Резуьтат радіуса 5 = {area} та його периметер {perimeter} а результат радіуса 11 = {area1} та його периметер {perimeter1}\")"
   ]
  },
  {
   "cell_type": "markdown",
   "id": "4a39e47f",
   "metadata": {},
   "source": [
    "9.Створіть клас під назвою `Student`, який має два атрибути: `name` (ім'я) та `grade` (оцінка). Оцінкою може були літера - з набору  [\"F\", \"D\", \"C\", \"B\", \"A\"], де \"А\" - найвища оцінка, \"F\" - найнижча.  Клас повинен мати наступні функціональні можливості:\n",
    "\n",
    "1. Метод `__init__`, який ініціалізує `name` та `grade`.\n",
    "2. Метод `display_student()`, який відображає ім'я та оцінку студента з допомогою `print`. Форматування - на Ваш розсуд.\n",
    "3. Метод `upgrade_grade()`, який підвищує оцінку на 1 рівень (наприклад, з \"B\" на \"A\"), якщо вона вже не \"A\". Якщо вже \"А\", то необхідно вивести повідомлення про те, що оцінка не може бути підвищена, оскільки вона вже і так найвища.\n",
    "\n",
    "Після створення класу, створіть 2 екземпляри `Student` з вигаданими імʼями та оцінками, і перевірте роботу методів `display_student()` та `upgrade_grade()`. Виведіть результат перевірки на екран."
   ]
  },
  {
   "cell_type": "code",
   "execution_count": 32,
   "id": "51ef0571",
   "metadata": {
    "ExecuteTime": {
     "end_time": "2023-11-05T13:34:54.007152Z",
     "start_time": "2023-11-05T13:34:53.989332Z"
    }
   },
   "outputs": [],
   "source": [
    "class Student:\n",
    "    def __init__(self, name, grade):\n",
    "        self.name = name\n",
    "        self.grade = grade\n",
    "    \n",
    "    def display_student(self):\n",
    "        return print(f\"Студент {self.name} отримав {self.grade}\")\n",
    "    \n",
    "    def upgrade_grade(self):\n",
    "        valid_grades = [\"F\", \"D\", \"C\", \"B\", \"A\"]\n",
    "        if self.grade in valid_grades:\n",
    "            index = valid_grades.index(self.grade)\n",
    "            if self.grade != \"A\":\n",
    "                self.grade = valid_grades[index + 1]\n",
    "                print(f\"{self.name} підвищили на {self.grade}\")\n",
    "            else:\n",
    "                raise Exception (\"Оцінка не може бути підвищена, оскільки вона вже і так найвища\")"
   ]
  },
  {
   "cell_type": "code",
   "execution_count": 33,
   "id": "50a82aa2",
   "metadata": {
    "ExecuteTime": {
     "end_time": "2023-11-05T13:35:00.522616Z",
     "start_time": "2023-11-05T13:35:00.447898Z"
    }
   },
   "outputs": [
    {
     "name": "stdout",
     "output_type": "stream",
     "text": [
      "Студент Anna отримав D\n",
      "Студент Bob отримав A\n",
      "Anna підвищили на C\n",
      "None\n"
     ]
    },
    {
     "ename": "Exception",
     "evalue": "Оцінка не може бути підвищена, оскільки вона вже і так найвища",
     "output_type": "error",
     "traceback": [
      "\u001b[1;31m---------------------------------------------------------------------------\u001b[0m",
      "\u001b[1;31mException\u001b[0m                                 Traceback (most recent call last)",
      "Cell \u001b[1;32mIn[33], line 8\u001b[0m\n\u001b[0;32m      5\u001b[0m example2\u001b[38;5;241m.\u001b[39mdisplay_student()\n\u001b[0;32m      7\u001b[0m \u001b[38;5;28mprint\u001b[39m(example1\u001b[38;5;241m.\u001b[39mupgrade_grade())\n\u001b[1;32m----> 8\u001b[0m \u001b[38;5;28mprint\u001b[39m(example2\u001b[38;5;241m.\u001b[39mupgrade_grade())\n",
      "Cell \u001b[1;32mIn[32], line 17\u001b[0m, in \u001b[0;36mStudent.upgrade_grade\u001b[1;34m(self)\u001b[0m\n\u001b[0;32m     15\u001b[0m     \u001b[38;5;28mprint\u001b[39m(\u001b[38;5;124mf\u001b[39m\u001b[38;5;124m\"\u001b[39m\u001b[38;5;132;01m{\u001b[39;00m\u001b[38;5;28mself\u001b[39m\u001b[38;5;241m.\u001b[39mname\u001b[38;5;132;01m}\u001b[39;00m\u001b[38;5;124m підвищили на \u001b[39m\u001b[38;5;132;01m{\u001b[39;00m\u001b[38;5;28mself\u001b[39m\u001b[38;5;241m.\u001b[39mgrade\u001b[38;5;132;01m}\u001b[39;00m\u001b[38;5;124m\"\u001b[39m)\n\u001b[0;32m     16\u001b[0m \u001b[38;5;28;01melse\u001b[39;00m:\n\u001b[1;32m---> 17\u001b[0m     \u001b[38;5;28;01mraise\u001b[39;00m \u001b[38;5;167;01mException\u001b[39;00m (\u001b[38;5;124m\"\u001b[39m\u001b[38;5;124mОцінка не може бути підвищена, оскільки вона вже і так найвища\u001b[39m\u001b[38;5;124m\"\u001b[39m)\n",
      "\u001b[1;31mException\u001b[0m: Оцінка не може бути підвищена, оскільки вона вже і так найвища"
     ]
    }
   ],
   "source": [
    "example1 = Student(\"Anna\", \"D\")\n",
    "example2 = Student(\"Bob\", \"A\")\n",
    "\n",
    "example1.display_student()\n",
    "example2.display_student()\n",
    "\n",
    "print(example1.upgrade_grade())\n",
    "print(example2.upgrade_grade())\n"
   ]
  },
  {
   "cell_type": "markdown",
   "id": "fbf61911",
   "metadata": {},
   "source": [
    "10.Створіть клас з назвою `GraduateStudent`, який є нащадком класу `Student` з попереднього завдання.\n",
    "Клас `GraduateStudent` повинен мати додатковий атрибут `thesis_title` (назва дисертації - тип str). Тобто цей атрибут має зʼявитись при ініціації екземпляру класу.  \n",
    "Він також повинен мати метод `display_thesis()`, який виводить назву дисертації.\n",
    "\n",
    "Після створення класу, створіть екземпляр `GraduateStudent` і перевірте роботу методів `display_student()`, `upgrade_grade()`, та `display_thesis()`. Виведіть результат перевірки на екран.\n",
    "\n"
   ]
  },
  {
   "cell_type": "code",
   "execution_count": 36,
   "id": "aafe9159",
   "metadata": {
    "ExecuteTime": {
     "end_time": "2023-11-05T13:39:44.197223Z",
     "start_time": "2023-11-05T13:39:44.184362Z"
    }
   },
   "outputs": [],
   "source": [
    "class GraduateStudent(Student):\n",
    "    def __init__(self, name, grade, thesis_title):\n",
    "        super().__init__(name, grade)\n",
    "        self.thesis_title = thesis_title\n",
    "        \n",
    "    def display_thesis(self):\n",
    "        return (f\"Назва роботи {self.thesis_title}\")"
   ]
  },
  {
   "cell_type": "code",
   "execution_count": 37,
   "id": "32cf1e95",
   "metadata": {
    "ExecuteTime": {
     "end_time": "2023-11-05T13:39:46.714059Z",
     "start_time": "2023-11-05T13:39:46.646467Z"
    }
   },
   "outputs": [
    {
     "name": "stdout",
     "output_type": "stream",
     "text": [
      "Студент Anna отримав D\n",
      "Студент Bob отримав A\n",
      "Назва роботи my_first_thesis\n",
      "Назва роботи my_second_thesis\n",
      "Anna підвищили на C\n"
     ]
    },
    {
     "ename": "Exception",
     "evalue": "Оцінка не може бути підвищена, оскільки вона вже і так найвища",
     "output_type": "error",
     "traceback": [
      "\u001b[1;31m---------------------------------------------------------------------------\u001b[0m",
      "\u001b[1;31mException\u001b[0m                                 Traceback (most recent call last)",
      "Cell \u001b[1;32mIn[37], line 11\u001b[0m\n\u001b[0;32m      8\u001b[0m \u001b[38;5;28mprint\u001b[39m(example2\u001b[38;5;241m.\u001b[39mdisplay_thesis())\n\u001b[0;32m     10\u001b[0m example1\u001b[38;5;241m.\u001b[39mupgrade_grade()\n\u001b[1;32m---> 11\u001b[0m example2\u001b[38;5;241m.\u001b[39mupgrade_grade()\n",
      "Cell \u001b[1;32mIn[32], line 17\u001b[0m, in \u001b[0;36mStudent.upgrade_grade\u001b[1;34m(self)\u001b[0m\n\u001b[0;32m     15\u001b[0m     \u001b[38;5;28mprint\u001b[39m(\u001b[38;5;124mf\u001b[39m\u001b[38;5;124m\"\u001b[39m\u001b[38;5;132;01m{\u001b[39;00m\u001b[38;5;28mself\u001b[39m\u001b[38;5;241m.\u001b[39mname\u001b[38;5;132;01m}\u001b[39;00m\u001b[38;5;124m підвищили на \u001b[39m\u001b[38;5;132;01m{\u001b[39;00m\u001b[38;5;28mself\u001b[39m\u001b[38;5;241m.\u001b[39mgrade\u001b[38;5;132;01m}\u001b[39;00m\u001b[38;5;124m\"\u001b[39m)\n\u001b[0;32m     16\u001b[0m \u001b[38;5;28;01melse\u001b[39;00m:\n\u001b[1;32m---> 17\u001b[0m     \u001b[38;5;28;01mraise\u001b[39;00m \u001b[38;5;167;01mException\u001b[39;00m (\u001b[38;5;124m\"\u001b[39m\u001b[38;5;124mОцінка не може бути підвищена, оскільки вона вже і так найвища\u001b[39m\u001b[38;5;124m\"\u001b[39m)\n",
      "\u001b[1;31mException\u001b[0m: Оцінка не може бути підвищена, оскільки вона вже і так найвища"
     ]
    }
   ],
   "source": [
    "example1 = GraduateStudent(\"Anna\", \"D\", \"my_first_thesis\")\n",
    "example2 = GraduateStudent(\"Bob\", \"A\", \"my_second_thesis\")\n",
    "\n",
    "example1.display_student()\n",
    "example2.display_student()\n",
    "\n",
    "print(example1.display_thesis())\n",
    "print(example2.display_thesis())\n",
    "\n",
    "example1.upgrade_grade()\n",
    "example2.upgrade_grade()"
   ]
  },
  {
   "cell_type": "code",
   "execution_count": null,
   "id": "7e3fae63",
   "metadata": {},
   "outputs": [],
   "source": []
  }
 ],
 "metadata": {
  "kernelspec": {
   "display_name": "Python 3 (ipykernel)",
   "language": "python",
   "name": "python3"
  },
  "language_info": {
   "codemirror_mode": {
    "name": "ipython",
    "version": 3
   },
   "file_extension": ".py",
   "mimetype": "text/x-python",
   "name": "python",
   "nbconvert_exporter": "python",
   "pygments_lexer": "ipython3",
   "version": "3.11.5"
  },
  "toc": {
   "base_numbering": 1,
   "nav_menu": {},
   "number_sections": true,
   "sideBar": true,
   "skip_h1_title": false,
   "title_cell": "Table of Contents",
   "title_sidebar": "Contents",
   "toc_cell": false,
   "toc_position": {},
   "toc_section_display": true,
   "toc_window_display": false
  }
 },
 "nbformat": 4,
 "nbformat_minor": 5
}
